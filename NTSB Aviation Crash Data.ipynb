{
 "cells": [
  {
   "cell_type": "code",
   "execution_count": 185,
   "metadata": {},
   "outputs": [
    {
     "data": {
      "text/html": [
       "<script>requirejs.config({paths: { 'plotly': ['https://cdn.plot.ly/plotly-latest.min']},});if(!window.Plotly) {{require(['plotly'],function(plotly) {window.Plotly=plotly;});}}</script>"
      ],
      "text/vnd.plotly.v1+html": [
       "<script>requirejs.config({paths: { 'plotly': ['https://cdn.plot.ly/plotly-latest.min']},});if(!window.Plotly) {{require(['plotly'],function(plotly) {window.Plotly=plotly;});}}</script>"
      ]
     },
     "metadata": {},
     "output_type": "display_data"
    },
    {
     "name": "stderr",
     "output_type": "stream",
     "text": [
      "IOPub data rate exceeded.\n",
      "The notebook server will temporarily stop sending output\n",
      "to the client in order to avoid crashing it.\n",
      "To change this limit, set the config variable\n",
      "`--NotebookApp.iopub_data_rate_limit`.\n"
     ]
    }
   ],
   "source": [
    "import calendar\n",
    "import numpy as np\n",
    "import pandas as pd\n",
    "import matplotlib.pyplot as plt\n",
    "import seaborn as sns\n",
    "import plotly.plotly as py\n",
    "import plotly.graph_objs as go\n",
    "from plotly.offline import download_plotlyjs, init_notebook_mode, plot, iplot\n",
    "import cufflinks as cf\n",
    "init_notebook_mode(connected=True)\n",
    "cf.go_offline()"
   ]
  },
  {
   "cell_type": "code",
   "execution_count": 142,
   "metadata": {},
   "outputs": [],
   "source": [
    "crash_data = pd.read_csv('AviationDataEnd2016UP.csv', encoding = 'iso-8859-1')"
   ]
  },
  {
   "cell_type": "code",
   "execution_count": 143,
   "metadata": {},
   "outputs": [],
   "source": [
    "crash_data['State'] = crash_data[crash_data['Location'].notnull()]['Location'].apply(lambda x: x.split(', ')[-1])"
   ]
  },
  {
   "cell_type": "code",
   "execution_count": 144,
   "metadata": {},
   "outputs": [],
   "source": [
    "by_state = crash_data[crash_data['Country'] == 'United States'].groupby('State').count()\n",
    "by_state = by_state.reset_index()"
   ]
  },
  {
   "cell_type": "code",
   "execution_count": 199,
   "metadata": {},
   "outputs": [
    {
     "data": {
      "application/vnd.plotly.v1+json": {
       "data": [
        {
         "autocolorscale": true,
         "colorbar": {
          "title": "# Crashes"
         },
         "colorscale": "YIOrRd",
         "locationmode": "USA-states",
         "locations": [
          "AK",
          "AL",
          "AO",
          "AR",
          "AZ",
          "CA",
          "CO",
          "CT",
          "DC",
          "DE",
          "FL",
          "FN",
          "GA",
          "GM",
          "GU",
          "HI",
          "IA",
          "ID",
          "IL",
          "IN",
          "KS",
          "KY",
          "LA",
          "MA",
          "MD",
          "ME",
          "MI",
          "MN",
          "MO",
          "MP",
          "MS",
          "MT",
          "NC",
          "ND",
          "NE",
          "NH",
          "NJ",
          "NM",
          "NV",
          "NY",
          "OH",
          "OK",
          "ON",
          "OR",
          "PA",
          "PO",
          "PR",
          "RI",
          "SC",
          "SD",
          "TN",
          "TX",
          "UN",
          "UT",
          "VA",
          "VI",
          "VT",
          "WA",
          "WI",
          "WV",
          "WY"
         ],
         "marker": {
          "line": {
           "color": "rgb(255,255,255)",
           "width": 2
          }
         },
         "text": [
          5171,
          1051,
          7,
          1412,
          2554,
          8177,
          2505,
          456,
          42,
          104,
          5226,
          4,
          1800,
          63,
          14,
          445,
          747,
          1259,
          1913,
          1199,
          1009,
          590,
          1098,
          908,
          738,
          463,
          1890,
          1345,
          1436,
          2,
          756,
          960,
          1475,
          524,
          660,
          337,
          1091,
          1247,
          1091,
          1754,
          1652,
          1134,
          1,
          1589,
          1611,
          8,
          92,
          152,
          870,
          403,
          980,
          5265,
          3,
          1186,
          1140,
          13,
          218,
          2392,
          1425,
          370,
          677
         ],
         "type": "choropleth",
         "z": [
          5171,
          1051,
          7,
          1412,
          2554,
          8177,
          2505,
          456,
          42,
          104,
          5226,
          4,
          1800,
          63,
          14,
          445,
          747,
          1259,
          1913,
          1199,
          1009,
          590,
          1098,
          908,
          738,
          463,
          1890,
          1345,
          1436,
          2,
          756,
          960,
          1475,
          524,
          660,
          337,
          1091,
          1247,
          1091,
          1754,
          1652,
          1134,
          1,
          1589,
          1611,
          8,
          92,
          152,
          870,
          403,
          980,
          5265,
          3,
          1186,
          1140,
          13,
          218,
          2392,
          1425,
          370,
          677
         ]
        }
       ],
       "layout": {
        "geo": {
         "lakecolor": "rgb(255, 255, 255)",
         "projection": {
          "type": "albers usa"
         },
         "scope": "usa",
         "showlakes": true
        },
        "title": "# Crashes / State"
       }
      },
      "text/html": [
       "<div id=\"8b5f8a81-6081-40dc-9f53-a3cd7ca29d3e\" style=\"height: 525px; width: 100%;\" class=\"plotly-graph-div\"></div><script type=\"text/javascript\">require([\"plotly\"], function(Plotly) { window.PLOTLYENV=window.PLOTLYENV || {};window.PLOTLYENV.BASE_URL=\"https://plot.ly\";Plotly.newPlot(\"8b5f8a81-6081-40dc-9f53-a3cd7ca29d3e\", [{\"type\": \"choropleth\", \"colorscale\": \"YIOrRd\", \"autocolorscale\": true, \"locations\": [\"AK\", \"AL\", \"AO\", \"AR\", \"AZ\", \"CA\", \"CO\", \"CT\", \"DC\", \"DE\", \"FL\", \"FN\", \"GA\", \"GM\", \"GU\", \"HI\", \"IA\", \"ID\", \"IL\", \"IN\", \"KS\", \"KY\", \"LA\", \"MA\", \"MD\", \"ME\", \"MI\", \"MN\", \"MO\", \"MP\", \"MS\", \"MT\", \"NC\", \"ND\", \"NE\", \"NH\", \"NJ\", \"NM\", \"NV\", \"NY\", \"OH\", \"OK\", \"ON\", \"OR\", \"PA\", \"PO\", \"PR\", \"RI\", \"SC\", \"SD\", \"TN\", \"TX\", \"UN\", \"UT\", \"VA\", \"VI\", \"VT\", \"WA\", \"WI\", \"WV\", \"WY\"], \"z\": [5171, 1051, 7, 1412, 2554, 8177, 2505, 456, 42, 104, 5226, 4, 1800, 63, 14, 445, 747, 1259, 1913, 1199, 1009, 590, 1098, 908, 738, 463, 1890, 1345, 1436, 2, 756, 960, 1475, 524, 660, 337, 1091, 1247, 1091, 1754, 1652, 1134, 1, 1589, 1611, 8, 92, 152, 870, 403, 980, 5265, 3, 1186, 1140, 13, 218, 2392, 1425, 370, 677], \"locationmode\": \"USA-states\", \"text\": [5171, 1051, 7, 1412, 2554, 8177, 2505, 456, 42, 104, 5226, 4, 1800, 63, 14, 445, 747, 1259, 1913, 1199, 1009, 590, 1098, 908, 738, 463, 1890, 1345, 1436, 2, 756, 960, 1475, 524, 660, 337, 1091, 1247, 1091, 1754, 1652, 1134, 1, 1589, 1611, 8, 92, 152, 870, 403, 980, 5265, 3, 1186, 1140, 13, 218, 2392, 1425, 370, 677], \"marker\": {\"line\": {\"color\": \"rgb(255,255,255)\", \"width\": 2}}, \"colorbar\": {\"title\": \"# Crashes\"}}], {\"title\": \"# Crashes / State\", \"geo\": {\"scope\": \"usa\", \"projection\": {\"type\": \"albers usa\"}, \"showlakes\": true, \"lakecolor\": \"rgb(255, 255, 255)\"}}, {\"showLink\": true, \"linkText\": \"Export to plot.ly\"})});</script>"
      ],
      "text/vnd.plotly.v1+html": [
       "<div id=\"8b5f8a81-6081-40dc-9f53-a3cd7ca29d3e\" style=\"height: 525px; width: 100%;\" class=\"plotly-graph-div\"></div><script type=\"text/javascript\">require([\"plotly\"], function(Plotly) { window.PLOTLYENV=window.PLOTLYENV || {};window.PLOTLYENV.BASE_URL=\"https://plot.ly\";Plotly.newPlot(\"8b5f8a81-6081-40dc-9f53-a3cd7ca29d3e\", [{\"type\": \"choropleth\", \"colorscale\": \"YIOrRd\", \"autocolorscale\": true, \"locations\": [\"AK\", \"AL\", \"AO\", \"AR\", \"AZ\", \"CA\", \"CO\", \"CT\", \"DC\", \"DE\", \"FL\", \"FN\", \"GA\", \"GM\", \"GU\", \"HI\", \"IA\", \"ID\", \"IL\", \"IN\", \"KS\", \"KY\", \"LA\", \"MA\", \"MD\", \"ME\", \"MI\", \"MN\", \"MO\", \"MP\", \"MS\", \"MT\", \"NC\", \"ND\", \"NE\", \"NH\", \"NJ\", \"NM\", \"NV\", \"NY\", \"OH\", \"OK\", \"ON\", \"OR\", \"PA\", \"PO\", \"PR\", \"RI\", \"SC\", \"SD\", \"TN\", \"TX\", \"UN\", \"UT\", \"VA\", \"VI\", \"VT\", \"WA\", \"WI\", \"WV\", \"WY\"], \"z\": [5171, 1051, 7, 1412, 2554, 8177, 2505, 456, 42, 104, 5226, 4, 1800, 63, 14, 445, 747, 1259, 1913, 1199, 1009, 590, 1098, 908, 738, 463, 1890, 1345, 1436, 2, 756, 960, 1475, 524, 660, 337, 1091, 1247, 1091, 1754, 1652, 1134, 1, 1589, 1611, 8, 92, 152, 870, 403, 980, 5265, 3, 1186, 1140, 13, 218, 2392, 1425, 370, 677], \"locationmode\": \"USA-states\", \"text\": [5171, 1051, 7, 1412, 2554, 8177, 2505, 456, 42, 104, 5226, 4, 1800, 63, 14, 445, 747, 1259, 1913, 1199, 1009, 590, 1098, 908, 738, 463, 1890, 1345, 1436, 2, 756, 960, 1475, 524, 660, 337, 1091, 1247, 1091, 1754, 1652, 1134, 1, 1589, 1611, 8, 92, 152, 870, 403, 980, 5265, 3, 1186, 1140, 13, 218, 2392, 1425, 370, 677], \"marker\": {\"line\": {\"color\": \"rgb(255,255,255)\", \"width\": 2}}, \"colorbar\": {\"title\": \"# Crashes\"}}], {\"title\": \"# Crashes / State\", \"geo\": {\"scope\": \"usa\", \"projection\": {\"type\": \"albers usa\"}, \"showlakes\": true, \"lakecolor\": \"rgb(255, 255, 255)\"}}, {\"showLink\": true, \"linkText\": \"Export to plot.ly\"})});</script>"
      ]
     },
     "metadata": {},
     "output_type": "display_data"
    }
   ],
   "source": [
    "data = dict(\n",
    "            type='choropleth',\n",
    "            colorscale = 'YIOrRd',\n",
    "            autocolorscale = True,\n",
    "            locations = by_state['State'],\n",
    "            z = by_state['Event.Id'],\n",
    "            locationmode = 'USA-states',\n",
    "            text = by_state['Event.Id'],\n",
    "            marker = dict(\n",
    "                line = dict (\n",
    "                    color = 'rgb(255,255,255)',\n",
    "                    width = 2\n",
    "                ) ),\n",
    "            colorbar = dict(\n",
    "                title = \"# Crashes\")\n",
    "            ) \n",
    "\n",
    "layout = dict(\n",
    "        title = '# Crashes / State',\n",
    "        geo = dict(\n",
    "            scope='usa',\n",
    "            projection=dict( type='albers usa' ),\n",
    "            showlakes = True,\n",
    "            lakecolor = 'rgb(255, 255, 255)'),\n",
    "             )\n",
    "\n",
    "choromap = go.Figure(data=[data], layout=layout)\n",
    "iplot(choromap)"
   ]
  },
  {
   "cell_type": "code",
   "execution_count": 232,
   "metadata": {},
   "outputs": [],
   "source": [
    "crash_data['Event.Date'] = crash_data['Event.Date'].apply(pd.to_datetime)"
   ]
  },
  {
   "cell_type": "code",
   "execution_count": 213,
   "metadata": {},
   "outputs": [
    {
     "data": {
      "application/vnd.plotly.v1+json": {
       "data": [
        {
         "marker": {
          "color": "rgba(255, 153, 51, 0.6)",
          "line": {
           "color": "rgba(255, 153, 51, 1.0)",
           "width": 1
          }
         },
         "name": "Event.Id",
         "orientation": "v",
         "text": "",
         "type": "bar",
         "x": [
          "Jan",
          "Feb",
          "Mar",
          "Apr",
          "May",
          "Jun",
          "Jul",
          "Aug",
          "Sep",
          "Oct",
          "Nov",
          "Dec"
         ],
         "y": [
          4448,
          4680,
          5994,
          6549,
          7626,
          8544,
          9504,
          8983,
          7382,
          6165,
          4907,
          4511
         ]
        }
       ],
       "layout": {
        "legend": {
         "bgcolor": "#F5F6F9",
         "font": {
          "color": "#4D5663"
         }
        },
        "paper_bgcolor": "#F5F6F9",
        "plot_bgcolor": "#F5F6F9",
        "title": "# Crashes / Month",
        "titlefont": {
         "color": "#4D5663"
        },
        "xaxis1": {
         "gridcolor": "#E1E5ED",
         "showgrid": true,
         "tickfont": {
          "color": "#4D5663"
         },
         "title": "",
         "titlefont": {
          "color": "#4D5663"
         },
         "zerolinecolor": "#E1E5ED"
        },
        "yaxis1": {
         "gridcolor": "#E1E5ED",
         "showgrid": true,
         "tickfont": {
          "color": "#4D5663"
         },
         "title": "",
         "titlefont": {
          "color": "#4D5663"
         },
         "zerolinecolor": "#E1E5ED"
        }
       }
      },
      "text/html": [
       "<div id=\"579191cf-4261-4b29-a2e8-bee71dfcbd0a\" style=\"height: 525px; width: 100%;\" class=\"plotly-graph-div\"></div><script type=\"text/javascript\">require([\"plotly\"], function(Plotly) { window.PLOTLYENV=window.PLOTLYENV || {};window.PLOTLYENV.BASE_URL=\"https://plot.ly\";Plotly.newPlot(\"579191cf-4261-4b29-a2e8-bee71dfcbd0a\", [{\"type\": \"bar\", \"x\": [\"Jan\", \"Feb\", \"Mar\", \"Apr\", \"May\", \"Jun\", \"Jul\", \"Aug\", \"Sep\", \"Oct\", \"Nov\", \"Dec\"], \"y\": [4448, 4680, 5994, 6549, 7626, 8544, 9504, 8983, 7382, 6165, 4907, 4511], \"name\": \"Event.Id\", \"text\": \"\", \"marker\": {\"color\": \"rgba(255, 153, 51, 0.6)\", \"line\": {\"color\": \"rgba(255, 153, 51, 1.0)\", \"width\": 1}}, \"orientation\": \"v\"}], {\"legend\": {\"bgcolor\": \"#F5F6F9\", \"font\": {\"color\": \"#4D5663\"}}, \"paper_bgcolor\": \"#F5F6F9\", \"plot_bgcolor\": \"#F5F6F9\", \"yaxis1\": {\"tickfont\": {\"color\": \"#4D5663\"}, \"gridcolor\": \"#E1E5ED\", \"titlefont\": {\"color\": \"#4D5663\"}, \"zerolinecolor\": \"#E1E5ED\", \"showgrid\": true, \"title\": \"\"}, \"xaxis1\": {\"tickfont\": {\"color\": \"#4D5663\"}, \"gridcolor\": \"#E1E5ED\", \"titlefont\": {\"color\": \"#4D5663\"}, \"zerolinecolor\": \"#E1E5ED\", \"showgrid\": true, \"title\": \"\"}, \"titlefont\": {\"color\": \"#4D5663\"}, \"title\": \"# Crashes / Month\"}, {\"showLink\": true, \"linkText\": \"Export to plot.ly\"})});</script>"
      ],
      "text/vnd.plotly.v1+html": [
       "<div id=\"579191cf-4261-4b29-a2e8-bee71dfcbd0a\" style=\"height: 525px; width: 100%;\" class=\"plotly-graph-div\"></div><script type=\"text/javascript\">require([\"plotly\"], function(Plotly) { window.PLOTLYENV=window.PLOTLYENV || {};window.PLOTLYENV.BASE_URL=\"https://plot.ly\";Plotly.newPlot(\"579191cf-4261-4b29-a2e8-bee71dfcbd0a\", [{\"type\": \"bar\", \"x\": [\"Jan\", \"Feb\", \"Mar\", \"Apr\", \"May\", \"Jun\", \"Jul\", \"Aug\", \"Sep\", \"Oct\", \"Nov\", \"Dec\"], \"y\": [4448, 4680, 5994, 6549, 7626, 8544, 9504, 8983, 7382, 6165, 4907, 4511], \"name\": \"Event.Id\", \"text\": \"\", \"marker\": {\"color\": \"rgba(255, 153, 51, 0.6)\", \"line\": {\"color\": \"rgba(255, 153, 51, 1.0)\", \"width\": 1}}, \"orientation\": \"v\"}], {\"legend\": {\"bgcolor\": \"#F5F6F9\", \"font\": {\"color\": \"#4D5663\"}}, \"paper_bgcolor\": \"#F5F6F9\", \"plot_bgcolor\": \"#F5F6F9\", \"yaxis1\": {\"tickfont\": {\"color\": \"#4D5663\"}, \"gridcolor\": \"#E1E5ED\", \"titlefont\": {\"color\": \"#4D5663\"}, \"zerolinecolor\": \"#E1E5ED\", \"showgrid\": true, \"title\": \"\"}, \"xaxis1\": {\"tickfont\": {\"color\": \"#4D5663\"}, \"gridcolor\": \"#E1E5ED\", \"titlefont\": {\"color\": \"#4D5663\"}, \"zerolinecolor\": \"#E1E5ED\", \"showgrid\": true, \"title\": \"\"}, \"titlefont\": {\"color\": \"#4D5663\"}, \"title\": \"# Crashes / Month\"}, {\"showLink\": true, \"linkText\": \"Export to plot.ly\"})});</script>"
      ]
     },
     "metadata": {},
     "output_type": "display_data"
    }
   ],
   "source": [
    "crash_data['Month'] = crash_data['Event.Date'].apply(lambda x: x.month)\n",
    "by_month = crash_data.groupby('Month').count()\n",
    "by_month['Month.Name'] = by_month.index.map(lambda x: calendar.month_abbr[x])\n",
    "by_month.iplot(kind='bar', x='Month.Name', y='Event.Id', title='# Crashes / Month')"
   ]
  },
  {
   "cell_type": "code",
   "execution_count": 226,
   "metadata": {},
   "outputs": [
    {
     "data": {
      "application/vnd.plotly.v1+json": {
       "data": [
        {
         "marker": {
          "color": "rgba(0, 128, 0, 0.6)",
          "line": {
           "color": "rgba(0, 128, 0, 1.0)",
           "width": 1
          }
         },
         "name": "Event.Id",
         "orientation": "v",
         "text": "",
         "type": "bar",
         "x": [
          1979,
          1981,
          1982,
          1983,
          1984,
          1985,
          1986,
          1987,
          1988,
          1989,
          1990,
          1991,
          1992,
          1993,
          1994,
          1995,
          1996,
          1997,
          1998,
          1999,
          2000,
          2001,
          2002,
          2003,
          2004,
          2005,
          2006,
          2007,
          2008,
          2009,
          2010,
          2011,
          2012,
          2013,
          2014,
          2015,
          2016,
          2017
         ],
         "y": [
          1,
          1,
          3593,
          3556,
          3457,
          3096,
          2880,
          2828,
          2730,
          2544,
          2518,
          2462,
          2354,
          2313,
          2257,
          2309,
          2187,
          2148,
          2226,
          2209,
          2220,
          2063,
          2020,
          2085,
          1952,
          2031,
          1851,
          2016,
          1931,
          1805,
          1818,
          1886,
          1860,
          1555,
          1539,
          1578,
          1409,
          1
         ]
        }
       ],
       "layout": {
        "legend": {
         "bgcolor": "#F5F6F9",
         "font": {
          "color": "#4D5663"
         }
        },
        "paper_bgcolor": "#F5F6F9",
        "plot_bgcolor": "#F5F6F9",
        "title": "# Crashes / Year",
        "titlefont": {
         "color": "#4D5663"
        },
        "xaxis1": {
         "gridcolor": "#E1E5ED",
         "showgrid": true,
         "tickfont": {
          "color": "#4D5663"
         },
         "title": "",
         "titlefont": {
          "color": "#4D5663"
         },
         "zerolinecolor": "#E1E5ED"
        },
        "yaxis1": {
         "gridcolor": "#E1E5ED",
         "showgrid": true,
         "tickfont": {
          "color": "#4D5663"
         },
         "title": "",
         "titlefont": {
          "color": "#4D5663"
         },
         "zerolinecolor": "#E1E5ED"
        }
       }
      },
      "text/html": [
       "<div id=\"ae42541d-52a2-4965-88df-fad4b0160547\" style=\"height: 525px; width: 100%;\" class=\"plotly-graph-div\"></div><script type=\"text/javascript\">require([\"plotly\"], function(Plotly) { window.PLOTLYENV=window.PLOTLYENV || {};window.PLOTLYENV.BASE_URL=\"https://plot.ly\";Plotly.newPlot(\"ae42541d-52a2-4965-88df-fad4b0160547\", [{\"type\": \"bar\", \"x\": [1979, 1981, 1982, 1983, 1984, 1985, 1986, 1987, 1988, 1989, 1990, 1991, 1992, 1993, 1994, 1995, 1996, 1997, 1998, 1999, 2000, 2001, 2002, 2003, 2004, 2005, 2006, 2007, 2008, 2009, 2010, 2011, 2012, 2013, 2014, 2015, 2016, 2017], \"y\": [1, 1, 3593, 3556, 3457, 3096, 2880, 2828, 2730, 2544, 2518, 2462, 2354, 2313, 2257, 2309, 2187, 2148, 2226, 2209, 2220, 2063, 2020, 2085, 1952, 2031, 1851, 2016, 1931, 1805, 1818, 1886, 1860, 1555, 1539, 1578, 1409, 1], \"name\": \"Event.Id\", \"text\": \"\", \"marker\": {\"color\": \"rgba(0, 128, 0, 0.6)\", \"line\": {\"color\": \"rgba(0, 128, 0, 1.0)\", \"width\": 1}}, \"orientation\": \"v\"}], {\"legend\": {\"bgcolor\": \"#F5F6F9\", \"font\": {\"color\": \"#4D5663\"}}, \"paper_bgcolor\": \"#F5F6F9\", \"plot_bgcolor\": \"#F5F6F9\", \"yaxis1\": {\"tickfont\": {\"color\": \"#4D5663\"}, \"gridcolor\": \"#E1E5ED\", \"titlefont\": {\"color\": \"#4D5663\"}, \"zerolinecolor\": \"#E1E5ED\", \"showgrid\": true, \"title\": \"\"}, \"xaxis1\": {\"tickfont\": {\"color\": \"#4D5663\"}, \"gridcolor\": \"#E1E5ED\", \"titlefont\": {\"color\": \"#4D5663\"}, \"zerolinecolor\": \"#E1E5ED\", \"showgrid\": true, \"title\": \"\"}, \"titlefont\": {\"color\": \"#4D5663\"}, \"title\": \"# Crashes / Year\"}, {\"showLink\": true, \"linkText\": \"Export to plot.ly\"})});</script>"
      ],
      "text/vnd.plotly.v1+html": [
       "<div id=\"ae42541d-52a2-4965-88df-fad4b0160547\" style=\"height: 525px; width: 100%;\" class=\"plotly-graph-div\"></div><script type=\"text/javascript\">require([\"plotly\"], function(Plotly) { window.PLOTLYENV=window.PLOTLYENV || {};window.PLOTLYENV.BASE_URL=\"https://plot.ly\";Plotly.newPlot(\"ae42541d-52a2-4965-88df-fad4b0160547\", [{\"type\": \"bar\", \"x\": [1979, 1981, 1982, 1983, 1984, 1985, 1986, 1987, 1988, 1989, 1990, 1991, 1992, 1993, 1994, 1995, 1996, 1997, 1998, 1999, 2000, 2001, 2002, 2003, 2004, 2005, 2006, 2007, 2008, 2009, 2010, 2011, 2012, 2013, 2014, 2015, 2016, 2017], \"y\": [1, 1, 3593, 3556, 3457, 3096, 2880, 2828, 2730, 2544, 2518, 2462, 2354, 2313, 2257, 2309, 2187, 2148, 2226, 2209, 2220, 2063, 2020, 2085, 1952, 2031, 1851, 2016, 1931, 1805, 1818, 1886, 1860, 1555, 1539, 1578, 1409, 1], \"name\": \"Event.Id\", \"text\": \"\", \"marker\": {\"color\": \"rgba(0, 128, 0, 0.6)\", \"line\": {\"color\": \"rgba(0, 128, 0, 1.0)\", \"width\": 1}}, \"orientation\": \"v\"}], {\"legend\": {\"bgcolor\": \"#F5F6F9\", \"font\": {\"color\": \"#4D5663\"}}, \"paper_bgcolor\": \"#F5F6F9\", \"plot_bgcolor\": \"#F5F6F9\", \"yaxis1\": {\"tickfont\": {\"color\": \"#4D5663\"}, \"gridcolor\": \"#E1E5ED\", \"titlefont\": {\"color\": \"#4D5663\"}, \"zerolinecolor\": \"#E1E5ED\", \"showgrid\": true, \"title\": \"\"}, \"xaxis1\": {\"tickfont\": {\"color\": \"#4D5663\"}, \"gridcolor\": \"#E1E5ED\", \"titlefont\": {\"color\": \"#4D5663\"}, \"zerolinecolor\": \"#E1E5ED\", \"showgrid\": true, \"title\": \"\"}, \"titlefont\": {\"color\": \"#4D5663\"}, \"title\": \"# Crashes / Year\"}, {\"showLink\": true, \"linkText\": \"Export to plot.ly\"})});</script>"
      ]
     },
     "metadata": {},
     "output_type": "display_data"
    }
   ],
   "source": [
    "crash_data['Year'] = crash_data['Event.Date'].apply(lambda x: x.year)\n",
    "by_year = crash_data.groupby('Year').count()\n",
    "by_year.loc[1979:].iplot(kind='bar', y='Event.Id', title='# Crashes / Year',color='green')"
   ]
  },
  {
   "cell_type": "code",
   "execution_count": 208,
   "metadata": {},
   "outputs": [
    {
     "data": {
      "application/vnd.plotly.v1+json": {
       "data": [
        {
         "marker": {
          "color": "rgba(55, 128, 191, 0.6)",
          "line": {
           "color": "rgba(55, 128, 191, 1.0)",
           "width": 1
          }
         },
         "name": "Event.Id",
         "orientation": "v",
         "text": "",
         "type": "bar",
         "x": [
          "APPROACH",
          "CLIMB",
          "CRUISE",
          "DESCENT",
          "GO-AROUND",
          "LANDING",
          "MANEUVERING",
          "OTHER",
          "STANDING",
          "TAKEOFF",
          "TAXI",
          "UNKNOWN"
         ],
         "y": [
          7720,
          2279,
          10749,
          2202,
          1608,
          19209,
          9818,
          157,
          1219,
          15284,
          2322,
          672
         ]
        }
       ],
       "layout": {
        "legend": {
         "bgcolor": "#F5F6F9",
         "font": {
          "color": "#4D5663"
         }
        },
        "paper_bgcolor": "#F5F6F9",
        "plot_bgcolor": "#F5F6F9",
        "title": "# Crashes / Phase of Flight",
        "titlefont": {
         "color": "#4D5663"
        },
        "xaxis1": {
         "gridcolor": "#E1E5ED",
         "showgrid": true,
         "tickfont": {
          "color": "#4D5663"
         },
         "title": "",
         "titlefont": {
          "color": "#4D5663"
         },
         "zerolinecolor": "#E1E5ED"
        },
        "yaxis1": {
         "gridcolor": "#E1E5ED",
         "showgrid": true,
         "tickfont": {
          "color": "#4D5663"
         },
         "title": "",
         "titlefont": {
          "color": "#4D5663"
         },
         "zerolinecolor": "#E1E5ED"
        }
       }
      },
      "text/html": [
       "<div id=\"41903b03-8ee1-4236-8719-18847dea2f0d\" style=\"height: 525px; width: 100%;\" class=\"plotly-graph-div\"></div><script type=\"text/javascript\">require([\"plotly\"], function(Plotly) { window.PLOTLYENV=window.PLOTLYENV || {};window.PLOTLYENV.BASE_URL=\"https://plot.ly\";Plotly.newPlot(\"41903b03-8ee1-4236-8719-18847dea2f0d\", [{\"type\": \"bar\", \"x\": [\"APPROACH\", \"CLIMB\", \"CRUISE\", \"DESCENT\", \"GO-AROUND\", \"LANDING\", \"MANEUVERING\", \"OTHER\", \"STANDING\", \"TAKEOFF\", \"TAXI\", \"UNKNOWN\"], \"y\": [7720, 2279, 10749, 2202, 1608, 19209, 9818, 157, 1219, 15284, 2322, 672], \"name\": \"Event.Id\", \"text\": \"\", \"marker\": {\"color\": \"rgba(55, 128, 191, 0.6)\", \"line\": {\"color\": \"rgba(55, 128, 191, 1.0)\", \"width\": 1}}, \"orientation\": \"v\"}], {\"legend\": {\"bgcolor\": \"#F5F6F9\", \"font\": {\"color\": \"#4D5663\"}}, \"paper_bgcolor\": \"#F5F6F9\", \"plot_bgcolor\": \"#F5F6F9\", \"yaxis1\": {\"tickfont\": {\"color\": \"#4D5663\"}, \"gridcolor\": \"#E1E5ED\", \"titlefont\": {\"color\": \"#4D5663\"}, \"zerolinecolor\": \"#E1E5ED\", \"showgrid\": true, \"title\": \"\"}, \"xaxis1\": {\"tickfont\": {\"color\": \"#4D5663\"}, \"gridcolor\": \"#E1E5ED\", \"titlefont\": {\"color\": \"#4D5663\"}, \"zerolinecolor\": \"#E1E5ED\", \"showgrid\": true, \"title\": \"\"}, \"titlefont\": {\"color\": \"#4D5663\"}, \"title\": \"# Crashes / Phase of Flight\"}, {\"showLink\": true, \"linkText\": \"Export to plot.ly\"})});</script>"
      ],
      "text/vnd.plotly.v1+html": [
       "<div id=\"41903b03-8ee1-4236-8719-18847dea2f0d\" style=\"height: 525px; width: 100%;\" class=\"plotly-graph-div\"></div><script type=\"text/javascript\">require([\"plotly\"], function(Plotly) { window.PLOTLYENV=window.PLOTLYENV || {};window.PLOTLYENV.BASE_URL=\"https://plot.ly\";Plotly.newPlot(\"41903b03-8ee1-4236-8719-18847dea2f0d\", [{\"type\": \"bar\", \"x\": [\"APPROACH\", \"CLIMB\", \"CRUISE\", \"DESCENT\", \"GO-AROUND\", \"LANDING\", \"MANEUVERING\", \"OTHER\", \"STANDING\", \"TAKEOFF\", \"TAXI\", \"UNKNOWN\"], \"y\": [7720, 2279, 10749, 2202, 1608, 19209, 9818, 157, 1219, 15284, 2322, 672], \"name\": \"Event.Id\", \"text\": \"\", \"marker\": {\"color\": \"rgba(55, 128, 191, 0.6)\", \"line\": {\"color\": \"rgba(55, 128, 191, 1.0)\", \"width\": 1}}, \"orientation\": \"v\"}], {\"legend\": {\"bgcolor\": \"#F5F6F9\", \"font\": {\"color\": \"#4D5663\"}}, \"paper_bgcolor\": \"#F5F6F9\", \"plot_bgcolor\": \"#F5F6F9\", \"yaxis1\": {\"tickfont\": {\"color\": \"#4D5663\"}, \"gridcolor\": \"#E1E5ED\", \"titlefont\": {\"color\": \"#4D5663\"}, \"zerolinecolor\": \"#E1E5ED\", \"showgrid\": true, \"title\": \"\"}, \"xaxis1\": {\"tickfont\": {\"color\": \"#4D5663\"}, \"gridcolor\": \"#E1E5ED\", \"titlefont\": {\"color\": \"#4D5663\"}, \"zerolinecolor\": \"#E1E5ED\", \"showgrid\": true, \"title\": \"\"}, \"titlefont\": {\"color\": \"#4D5663\"}, \"title\": \"# Crashes / Phase of Flight\"}, {\"showLink\": true, \"linkText\": \"Export to plot.ly\"})});</script>"
      ]
     },
     "metadata": {},
     "output_type": "display_data"
    }
   ],
   "source": [
    "by_phase = crash_data.groupby('Broad.Phase.of.Flight').count()\n",
    "by_phase.iplot(kind='bar',y='Event.Id', color='blue', title='# Crashes / Phase of Flight')"
   ]
  },
  {
   "cell_type": "code",
   "execution_count": 211,
   "metadata": {},
   "outputs": [
    {
     "data": {
      "application/vnd.plotly.v1+json": {
       "data": [
        {
         "marker": {
          "color": "rgba(219, 64, 82, 0.6)",
          "line": {
           "color": "rgba(219, 64, 82, 1.0)",
           "width": 1
          }
         },
         "name": "Event.Id",
         "orientation": "v",
         "text": "",
         "type": "bar",
         "x": [
          "IMC",
          "UNK",
          "VMC"
         ],
         "y": [
          5660,
          969,
          70507
         ]
        }
       ],
       "layout": {
        "legend": {
         "bgcolor": "#F5F6F9",
         "font": {
          "color": "#4D5663"
         }
        },
        "paper_bgcolor": "#F5F6F9",
        "plot_bgcolor": "#F5F6F9",
        "title": "# Crashes / Weather Condition",
        "titlefont": {
         "color": "#4D5663"
        },
        "xaxis1": {
         "gridcolor": "#E1E5ED",
         "showgrid": true,
         "tickfont": {
          "color": "#4D5663"
         },
         "title": "",
         "titlefont": {
          "color": "#4D5663"
         },
         "zerolinecolor": "#E1E5ED"
        },
        "yaxis1": {
         "gridcolor": "#E1E5ED",
         "showgrid": true,
         "tickfont": {
          "color": "#4D5663"
         },
         "title": "",
         "titlefont": {
          "color": "#4D5663"
         },
         "zerolinecolor": "#E1E5ED"
        }
       }
      },
      "text/html": [
       "<div id=\"19bc355f-7b4c-441c-98bd-95bacc9e9629\" style=\"height: 525px; width: 100%;\" class=\"plotly-graph-div\"></div><script type=\"text/javascript\">require([\"plotly\"], function(Plotly) { window.PLOTLYENV=window.PLOTLYENV || {};window.PLOTLYENV.BASE_URL=\"https://plot.ly\";Plotly.newPlot(\"19bc355f-7b4c-441c-98bd-95bacc9e9629\", [{\"type\": \"bar\", \"x\": [\"IMC\", \"UNK\", \"VMC\"], \"y\": [5660, 969, 70507], \"name\": \"Event.Id\", \"text\": \"\", \"marker\": {\"color\": \"rgba(219, 64, 82, 0.6)\", \"line\": {\"color\": \"rgba(219, 64, 82, 1.0)\", \"width\": 1}}, \"orientation\": \"v\"}], {\"legend\": {\"bgcolor\": \"#F5F6F9\", \"font\": {\"color\": \"#4D5663\"}}, \"paper_bgcolor\": \"#F5F6F9\", \"plot_bgcolor\": \"#F5F6F9\", \"yaxis1\": {\"tickfont\": {\"color\": \"#4D5663\"}, \"gridcolor\": \"#E1E5ED\", \"titlefont\": {\"color\": \"#4D5663\"}, \"zerolinecolor\": \"#E1E5ED\", \"showgrid\": true, \"title\": \"\"}, \"xaxis1\": {\"tickfont\": {\"color\": \"#4D5663\"}, \"gridcolor\": \"#E1E5ED\", \"titlefont\": {\"color\": \"#4D5663\"}, \"zerolinecolor\": \"#E1E5ED\", \"showgrid\": true, \"title\": \"\"}, \"titlefont\": {\"color\": \"#4D5663\"}, \"title\": \"# Crashes / Weather Condition\"}, {\"showLink\": true, \"linkText\": \"Export to plot.ly\"})});</script>"
      ],
      "text/vnd.plotly.v1+html": [
       "<div id=\"19bc355f-7b4c-441c-98bd-95bacc9e9629\" style=\"height: 525px; width: 100%;\" class=\"plotly-graph-div\"></div><script type=\"text/javascript\">require([\"plotly\"], function(Plotly) { window.PLOTLYENV=window.PLOTLYENV || {};window.PLOTLYENV.BASE_URL=\"https://plot.ly\";Plotly.newPlot(\"19bc355f-7b4c-441c-98bd-95bacc9e9629\", [{\"type\": \"bar\", \"x\": [\"IMC\", \"UNK\", \"VMC\"], \"y\": [5660, 969, 70507], \"name\": \"Event.Id\", \"text\": \"\", \"marker\": {\"color\": \"rgba(219, 64, 82, 0.6)\", \"line\": {\"color\": \"rgba(219, 64, 82, 1.0)\", \"width\": 1}}, \"orientation\": \"v\"}], {\"legend\": {\"bgcolor\": \"#F5F6F9\", \"font\": {\"color\": \"#4D5663\"}}, \"paper_bgcolor\": \"#F5F6F9\", \"plot_bgcolor\": \"#F5F6F9\", \"yaxis1\": {\"tickfont\": {\"color\": \"#4D5663\"}, \"gridcolor\": \"#E1E5ED\", \"titlefont\": {\"color\": \"#4D5663\"}, \"zerolinecolor\": \"#E1E5ED\", \"showgrid\": true, \"title\": \"\"}, \"xaxis1\": {\"tickfont\": {\"color\": \"#4D5663\"}, \"gridcolor\": \"#E1E5ED\", \"titlefont\": {\"color\": \"#4D5663\"}, \"zerolinecolor\": \"#E1E5ED\", \"showgrid\": true, \"title\": \"\"}, \"titlefont\": {\"color\": \"#4D5663\"}, \"title\": \"# Crashes / Weather Condition\"}, {\"showLink\": true, \"linkText\": \"Export to plot.ly\"})});</script>"
      ]
     },
     "metadata": {},
     "output_type": "display_data"
    }
   ],
   "source": [
    "crash_data.groupby('Weather.Condition').count().iplot(kind='bar', y='Event.Id', color='red', title='# Crashes / Weather Condition')"
   ]
  },
  {
   "cell_type": "code",
   "execution_count": 233,
   "metadata": {},
   "outputs": [
    {
     "name": "stdout",
     "output_type": "stream",
     "text": [
      "<class 'pandas.core.frame.DataFrame'>\n",
      "RangeIndex: 79293 entries, 0 to 79292\n",
      "Data columns (total 34 columns):\n",
      "Event.Id                  79293 non-null object\n",
      "Investigation.Type        79293 non-null object\n",
      "Accident.Number           79293 non-null object\n",
      "Event.Date                79293 non-null datetime64[ns]\n",
      "Location                  79215 non-null object\n",
      "Country                   78786 non-null object\n",
      "Latitude                  25751 non-null float64\n",
      "Longitude                 25742 non-null float64\n",
      "Airport.Code              44666 non-null object\n",
      "Airport.Name              47439 non-null object\n",
      "Injury.Severity           79293 non-null object\n",
      "Aircraft.Damage           76883 non-null object\n",
      "Aircraft.Category         22477 non-null object\n",
      "Registration.Number       76209 non-null object\n",
      "Make                      79204 non-null object\n",
      "Model                     79175 non-null object\n",
      "Amateur.Built             78721 non-null object\n",
      "Number.of.Engines         75175 non-null float64\n",
      "Engine.Type               75919 non-null object\n",
      "FAR.Description           22334 non-null object\n",
      "Schedule                  11501 non-null object\n",
      "Purpose.of.Flight         75399 non-null object\n",
      "Air.Carrier               3918 non-null object\n",
      "Total.Fatal.Injuries      55984 non-null float64\n",
      "Total.Serious.Injuries    53742 non-null float64\n",
      "Total.Minor.Injuries      54833 non-null float64\n",
      "Total.Uninjured           66949 non-null float64\n",
      "Weather.Condition         77136 non-null object\n",
      "Broad.Phase.of.Flight     73239 non-null object\n",
      "Report.Status             79293 non-null object\n",
      "Publication.Date          65819 non-null object\n",
      "State                     79215 non-null object\n",
      "Month                     79293 non-null int64\n",
      "Year                      79293 non-null int64\n",
      "dtypes: datetime64[ns](1), float64(7), int64(2), object(24)\n",
      "memory usage: 20.6+ MB\n"
     ]
    }
   ],
   "source": [
    "crash_data.info()"
   ]
  }
 ],
 "metadata": {
  "kernelspec": {
   "display_name": "Python 3",
   "language": "python",
   "name": "python3"
  },
  "language_info": {
   "codemirror_mode": {
    "name": "ipython",
    "version": 3
   },
   "file_extension": ".py",
   "mimetype": "text/x-python",
   "name": "python",
   "nbconvert_exporter": "python",
   "pygments_lexer": "ipython3",
   "version": "3.6.1"
  }
 },
 "nbformat": 4,
 "nbformat_minor": 2
}
