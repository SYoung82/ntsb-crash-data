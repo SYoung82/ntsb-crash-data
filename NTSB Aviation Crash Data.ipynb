{
 "cells": [
  {
   "cell_type": "code",
   "execution_count": 1,
   "metadata": {},
   "outputs": [
    {
     "data": {
      "text/html": [
       "<script>requirejs.config({paths: { 'plotly': ['https://cdn.plot.ly/plotly-latest.min']},});if(!window.Plotly) {{require(['plotly'],function(plotly) {window.Plotly=plotly;});}}</script>"
      ],
      "text/vnd.plotly.v1+html": [
       "<script>requirejs.config({paths: { 'plotly': ['https://cdn.plot.ly/plotly-latest.min']},});if(!window.Plotly) {{require(['plotly'],function(plotly) {window.Plotly=plotly;});}}</script>"
      ]
     },
     "metadata": {},
     "output_type": "display_data"
    },
    {
     "name": "stderr",
     "output_type": "stream",
     "text": [
      "IOPub data rate exceeded.\n",
      "The notebook server will temporarily stop sending output\n",
      "to the client in order to avoid crashing it.\n",
      "To change this limit, set the config variable\n",
      "`--NotebookApp.iopub_data_rate_limit`.\n"
     ]
    }
   ],
   "source": [
    "import calendar\n",
    "import numpy as np\n",
    "import pandas as pd\n",
    "import matplotlib.pyplot as plt\n",
    "import seaborn as sns\n",
    "import plotly.plotly as py\n",
    "import plotly.graph_objs as go\n",
    "from plotly.offline import download_plotlyjs, init_notebook_mode, plot, iplot\n",
    "import cufflinks as cf\n",
    "init_notebook_mode(connected=True)\n",
    "cf.go_offline()"
   ]
  },
  {
   "cell_type": "code",
   "execution_count": 2,
   "metadata": {
    "collapsed": true
   },
   "outputs": [],
   "source": [
    "crash_data = pd.read_csv('AviationDataEnd2016UP.csv', encoding = 'iso-8859-1')"
   ]
  },
  {
   "cell_type": "code",
   "execution_count": 3,
   "metadata": {
    "collapsed": true
   },
   "outputs": [],
   "source": [
    "crash_data['State'] = crash_data[crash_data['Location'].notnull()]['Location'].apply(lambda x: x.split(', ')[-1])"
   ]
  },
  {
   "cell_type": "code",
   "execution_count": 4,
   "metadata": {
    "collapsed": true
   },
   "outputs": [],
   "source": [
    "by_state = crash_data[crash_data['Country'] == 'United States'].groupby('State').count()\n",
    "by_state = by_state.reset_index()"
   ]
  },
  {
   "cell_type": "code",
   "execution_count": 21,
   "metadata": {},
   "outputs": [
    {
     "data": {
      "application/vnd.plotly.v1+json": {
       "data": [
        {
         "autocolorscale": true,
         "colorbar": {
          "title": "# Crashes"
         },
         "colorscale": "YIOrRd",
         "locationmode": "USA-states",
         "locations": [
          "AK",
          "AL",
          "AO",
          "AR",
          "AZ",
          "CA",
          "CO",
          "CT",
          "DC",
          "DE",
          "FL",
          "FN",
          "GA",
          "GM",
          "GU",
          "HI",
          "IA",
          "ID",
          "IL",
          "IN",
          "KS",
          "KY",
          "LA",
          "MA",
          "MD",
          "ME",
          "MI",
          "MN",
          "MO",
          "MP",
          "MS",
          "MT",
          "NC",
          "ND",
          "NE",
          "NH",
          "NJ",
          "NM",
          "NV",
          "NY",
          "OH",
          "OK",
          "ON",
          "OR",
          "PA",
          "PO",
          "PR",
          "RI",
          "SC",
          "SD",
          "TN",
          "TX",
          "UN",
          "UT",
          "VA",
          "VI",
          "VT",
          "WA",
          "WI",
          "WV",
          "WY"
         ],
         "marker": {
          "line": {
           "color": "rgb(255,255,255)",
           "width": 2
          }
         },
         "text": [
          5171,
          1051,
          7,
          1412,
          2554,
          8177,
          2505,
          456,
          42,
          104,
          5226,
          4,
          1800,
          63,
          14,
          445,
          747,
          1259,
          1913,
          1199,
          1009,
          590,
          1098,
          908,
          738,
          463,
          1890,
          1345,
          1436,
          2,
          756,
          960,
          1475,
          524,
          660,
          337,
          1091,
          1247,
          1091,
          1754,
          1652,
          1134,
          1,
          1589,
          1611,
          8,
          92,
          152,
          870,
          403,
          980,
          5265,
          3,
          1186,
          1140,
          13,
          218,
          2392,
          1425,
          370,
          677
         ],
         "type": "choropleth",
         "z": [
          5171,
          1051,
          7,
          1412,
          2554,
          8177,
          2505,
          456,
          42,
          104,
          5226,
          4,
          1800,
          63,
          14,
          445,
          747,
          1259,
          1913,
          1199,
          1009,
          590,
          1098,
          908,
          738,
          463,
          1890,
          1345,
          1436,
          2,
          756,
          960,
          1475,
          524,
          660,
          337,
          1091,
          1247,
          1091,
          1754,
          1652,
          1134,
          1,
          1589,
          1611,
          8,
          92,
          152,
          870,
          403,
          980,
          5265,
          3,
          1186,
          1140,
          13,
          218,
          2392,
          1425,
          370,
          677
         ]
        }
       ],
       "layout": {
        "geo": {
         "lakecolor": "rgb(255, 255, 255)",
         "scope": "usa",
         "showlakes": true
        },
        "title": "# Crashes / State"
       }
      },
      "text/html": [
       "<div id=\"4ed5553f-89a0-44eb-b0f9-6a849c110247\" style=\"height: 525px; width: 100%;\" class=\"plotly-graph-div\"></div><script type=\"text/javascript\">require([\"plotly\"], function(Plotly) { window.PLOTLYENV=window.PLOTLYENV || {};window.PLOTLYENV.BASE_URL=\"https://plot.ly\";Plotly.newPlot(\"4ed5553f-89a0-44eb-b0f9-6a849c110247\", [{\"type\": \"choropleth\", \"colorbar\": {\"title\": \"# Crashes\"}, \"colorscale\": \"YIOrRd\", \"locationmode\": \"USA-states\", \"autocolorscale\": true, \"z\": [5171, 1051, 7, 1412, 2554, 8177, 2505, 456, 42, 104, 5226, 4, 1800, 63, 14, 445, 747, 1259, 1913, 1199, 1009, 590, 1098, 908, 738, 463, 1890, 1345, 1436, 2, 756, 960, 1475, 524, 660, 337, 1091, 1247, 1091, 1754, 1652, 1134, 1, 1589, 1611, 8, 92, 152, 870, 403, 980, 5265, 3, 1186, 1140, 13, 218, 2392, 1425, 370, 677], \"text\": [5171, 1051, 7, 1412, 2554, 8177, 2505, 456, 42, 104, 5226, 4, 1800, 63, 14, 445, 747, 1259, 1913, 1199, 1009, 590, 1098, 908, 738, 463, 1890, 1345, 1436, 2, 756, 960, 1475, 524, 660, 337, 1091, 1247, 1091, 1754, 1652, 1134, 1, 1589, 1611, 8, 92, 152, 870, 403, 980, 5265, 3, 1186, 1140, 13, 218, 2392, 1425, 370, 677], \"locations\": [\"AK\", \"AL\", \"AO\", \"AR\", \"AZ\", \"CA\", \"CO\", \"CT\", \"DC\", \"DE\", \"FL\", \"FN\", \"GA\", \"GM\", \"GU\", \"HI\", \"IA\", \"ID\", \"IL\", \"IN\", \"KS\", \"KY\", \"LA\", \"MA\", \"MD\", \"ME\", \"MI\", \"MN\", \"MO\", \"MP\", \"MS\", \"MT\", \"NC\", \"ND\", \"NE\", \"NH\", \"NJ\", \"NM\", \"NV\", \"NY\", \"OH\", \"OK\", \"ON\", \"OR\", \"PA\", \"PO\", \"PR\", \"RI\", \"SC\", \"SD\", \"TN\", \"TX\", \"UN\", \"UT\", \"VA\", \"VI\", \"VT\", \"WA\", \"WI\", \"WV\", \"WY\"], \"marker\": {\"line\": {\"color\": \"rgb(255,255,255)\", \"width\": 2}}}], {\"geo\": {\"showlakes\": true, \"lakecolor\": \"rgb(255, 255, 255)\", \"scope\": \"usa\"}, \"title\": \"# Crashes / State\"}, {\"linkText\": \"Export to plot.ly\", \"showLink\": true})});</script>"
      ],
      "text/vnd.plotly.v1+html": [
       "<div id=\"4ed5553f-89a0-44eb-b0f9-6a849c110247\" style=\"height: 525px; width: 100%;\" class=\"plotly-graph-div\"></div><script type=\"text/javascript\">require([\"plotly\"], function(Plotly) { window.PLOTLYENV=window.PLOTLYENV || {};window.PLOTLYENV.BASE_URL=\"https://plot.ly\";Plotly.newPlot(\"4ed5553f-89a0-44eb-b0f9-6a849c110247\", [{\"type\": \"choropleth\", \"colorbar\": {\"title\": \"# Crashes\"}, \"colorscale\": \"YIOrRd\", \"locationmode\": \"USA-states\", \"autocolorscale\": true, \"z\": [5171, 1051, 7, 1412, 2554, 8177, 2505, 456, 42, 104, 5226, 4, 1800, 63, 14, 445, 747, 1259, 1913, 1199, 1009, 590, 1098, 908, 738, 463, 1890, 1345, 1436, 2, 756, 960, 1475, 524, 660, 337, 1091, 1247, 1091, 1754, 1652, 1134, 1, 1589, 1611, 8, 92, 152, 870, 403, 980, 5265, 3, 1186, 1140, 13, 218, 2392, 1425, 370, 677], \"text\": [5171, 1051, 7, 1412, 2554, 8177, 2505, 456, 42, 104, 5226, 4, 1800, 63, 14, 445, 747, 1259, 1913, 1199, 1009, 590, 1098, 908, 738, 463, 1890, 1345, 1436, 2, 756, 960, 1475, 524, 660, 337, 1091, 1247, 1091, 1754, 1652, 1134, 1, 1589, 1611, 8, 92, 152, 870, 403, 980, 5265, 3, 1186, 1140, 13, 218, 2392, 1425, 370, 677], \"locations\": [\"AK\", \"AL\", \"AO\", \"AR\", \"AZ\", \"CA\", \"CO\", \"CT\", \"DC\", \"DE\", \"FL\", \"FN\", \"GA\", \"GM\", \"GU\", \"HI\", \"IA\", \"ID\", \"IL\", \"IN\", \"KS\", \"KY\", \"LA\", \"MA\", \"MD\", \"ME\", \"MI\", \"MN\", \"MO\", \"MP\", \"MS\", \"MT\", \"NC\", \"ND\", \"NE\", \"NH\", \"NJ\", \"NM\", \"NV\", \"NY\", \"OH\", \"OK\", \"ON\", \"OR\", \"PA\", \"PO\", \"PR\", \"RI\", \"SC\", \"SD\", \"TN\", \"TX\", \"UN\", \"UT\", \"VA\", \"VI\", \"VT\", \"WA\", \"WI\", \"WV\", \"WY\"], \"marker\": {\"line\": {\"color\": \"rgb(255,255,255)\", \"width\": 2}}}], {\"geo\": {\"showlakes\": true, \"lakecolor\": \"rgb(255, 255, 255)\", \"scope\": \"usa\"}, \"title\": \"# Crashes / State\"}, {\"linkText\": \"Export to plot.ly\", \"showLink\": true})});</script>"
      ]
     },
     "metadata": {},
     "output_type": "display_data"
    }
   ],
   "source": [
    "data = dict(\n",
    "            type='choropleth',\n",
    "            colorscale = 'YIOrRd',\n",
    "            autocolorscale = True,\n",
    "            locations = by_state['State'],\n",
    "            z = by_state['Event.Id'],\n",
    "            locationmode = 'USA-states',\n",
    "            text = by_state['Event.Id'],\n",
    "            marker = dict(\n",
    "                line = dict (\n",
    "                    color = 'rgb(255,255,255)',\n",
    "                    width = 2\n",
    "                ) ),\n",
    "            colorbar = dict(\n",
    "                title = \"# Crashes\")\n",
    "            ) \n",
    "\n",
    "layout = dict(\n",
    "        title = '# Crashes / State',\n",
    "        geo = dict(\n",
    "            scope='usa',\n",
    "            showlakes = True,\n",
    "            lakecolor = 'rgb(255, 255, 255)'),\n",
    "             )\n",
    "\n",
    "choromap = go.Figure(data=[data], layout=layout)\n",
    "iplot(choromap)"
   ]
  },
  {
   "cell_type": "code",
   "execution_count": 6,
   "metadata": {
    "collapsed": true
   },
   "outputs": [],
   "source": [
    "crash_data['Event.Date'] = crash_data['Event.Date'].apply(pd.to_datetime)"
   ]
  },
  {
   "cell_type": "code",
   "execution_count": 7,
   "metadata": {},
   "outputs": [
    {
     "data": {
      "application/vnd.plotly.v1+json": {
       "data": [
        {
         "marker": {
          "color": "rgba(255, 153, 51, 0.6)",
          "line": {
           "color": "rgba(255, 153, 51, 1.0)",
           "width": 1
          }
         },
         "name": "Event.Id",
         "orientation": "v",
         "text": "",
         "type": "bar",
         "x": [
          "Jan",
          "Feb",
          "Mar",
          "Apr",
          "May",
          "Jun",
          "Jul",
          "Aug",
          "Sep",
          "Oct",
          "Nov",
          "Dec"
         ],
         "y": [
          4448,
          4680,
          5994,
          6549,
          7626,
          8544,
          9504,
          8983,
          7382,
          6165,
          4907,
          4511
         ]
        }
       ],
       "layout": {
        "legend": {
         "bgcolor": "#F5F6F9",
         "font": {
          "color": "#4D5663"
         }
        },
        "paper_bgcolor": "#F5F6F9",
        "plot_bgcolor": "#F5F6F9",
        "title": "# Crashes / Month",
        "titlefont": {
         "color": "#4D5663"
        },
        "xaxis1": {
         "gridcolor": "#E1E5ED",
         "showgrid": true,
         "tickfont": {
          "color": "#4D5663"
         },
         "title": "",
         "titlefont": {
          "color": "#4D5663"
         },
         "zerolinecolor": "#E1E5ED"
        },
        "yaxis1": {
         "gridcolor": "#E1E5ED",
         "showgrid": true,
         "tickfont": {
          "color": "#4D5663"
         },
         "title": "",
         "titlefont": {
          "color": "#4D5663"
         },
         "zerolinecolor": "#E1E5ED"
        }
       }
      },
      "text/html": [
       "<div id=\"ba4ec852-40c0-4e2a-a407-f72226cbb87b\" style=\"height: 525px; width: 100%;\" class=\"plotly-graph-div\"></div><script type=\"text/javascript\">require([\"plotly\"], function(Plotly) { window.PLOTLYENV=window.PLOTLYENV || {};window.PLOTLYENV.BASE_URL=\"https://plot.ly\";Plotly.newPlot(\"ba4ec852-40c0-4e2a-a407-f72226cbb87b\", [{\"type\": \"bar\", \"name\": \"Event.Id\", \"x\": [\"Jan\", \"Feb\", \"Mar\", \"Apr\", \"May\", \"Jun\", \"Jul\", \"Aug\", \"Sep\", \"Oct\", \"Nov\", \"Dec\"], \"orientation\": \"v\", \"y\": [4448, 4680, 5994, 6549, 7626, 8544, 9504, 8983, 7382, 6165, 4907, 4511], \"text\": \"\", \"marker\": {\"line\": {\"color\": \"rgba(255, 153, 51, 1.0)\", \"width\": 1}, \"color\": \"rgba(255, 153, 51, 0.6)\"}}], {\"legend\": {\"bgcolor\": \"#F5F6F9\", \"font\": {\"color\": \"#4D5663\"}}, \"titlefont\": {\"color\": \"#4D5663\"}, \"plot_bgcolor\": \"#F5F6F9\", \"xaxis1\": {\"gridcolor\": \"#E1E5ED\", \"titlefont\": {\"color\": \"#4D5663\"}, \"zerolinecolor\": \"#E1E5ED\", \"tickfont\": {\"color\": \"#4D5663\"}, \"showgrid\": true, \"title\": \"\"}, \"paper_bgcolor\": \"#F5F6F9\", \"title\": \"# Crashes / Month\", \"yaxis1\": {\"gridcolor\": \"#E1E5ED\", \"titlefont\": {\"color\": \"#4D5663\"}, \"zerolinecolor\": \"#E1E5ED\", \"tickfont\": {\"color\": \"#4D5663\"}, \"showgrid\": true, \"title\": \"\"}}, {\"linkText\": \"Export to plot.ly\", \"showLink\": true})});</script>"
      ],
      "text/vnd.plotly.v1+html": [
       "<div id=\"ba4ec852-40c0-4e2a-a407-f72226cbb87b\" style=\"height: 525px; width: 100%;\" class=\"plotly-graph-div\"></div><script type=\"text/javascript\">require([\"plotly\"], function(Plotly) { window.PLOTLYENV=window.PLOTLYENV || {};window.PLOTLYENV.BASE_URL=\"https://plot.ly\";Plotly.newPlot(\"ba4ec852-40c0-4e2a-a407-f72226cbb87b\", [{\"type\": \"bar\", \"name\": \"Event.Id\", \"x\": [\"Jan\", \"Feb\", \"Mar\", \"Apr\", \"May\", \"Jun\", \"Jul\", \"Aug\", \"Sep\", \"Oct\", \"Nov\", \"Dec\"], \"orientation\": \"v\", \"y\": [4448, 4680, 5994, 6549, 7626, 8544, 9504, 8983, 7382, 6165, 4907, 4511], \"text\": \"\", \"marker\": {\"line\": {\"color\": \"rgba(255, 153, 51, 1.0)\", \"width\": 1}, \"color\": \"rgba(255, 153, 51, 0.6)\"}}], {\"legend\": {\"bgcolor\": \"#F5F6F9\", \"font\": {\"color\": \"#4D5663\"}}, \"titlefont\": {\"color\": \"#4D5663\"}, \"plot_bgcolor\": \"#F5F6F9\", \"xaxis1\": {\"gridcolor\": \"#E1E5ED\", \"titlefont\": {\"color\": \"#4D5663\"}, \"zerolinecolor\": \"#E1E5ED\", \"tickfont\": {\"color\": \"#4D5663\"}, \"showgrid\": true, \"title\": \"\"}, \"paper_bgcolor\": \"#F5F6F9\", \"title\": \"# Crashes / Month\", \"yaxis1\": {\"gridcolor\": \"#E1E5ED\", \"titlefont\": {\"color\": \"#4D5663\"}, \"zerolinecolor\": \"#E1E5ED\", \"tickfont\": {\"color\": \"#4D5663\"}, \"showgrid\": true, \"title\": \"\"}}, {\"linkText\": \"Export to plot.ly\", \"showLink\": true})});</script>"
      ]
     },
     "metadata": {},
     "output_type": "display_data"
    }
   ],
   "source": [
    "crash_data['Month'] = crash_data['Event.Date'].apply(lambda x: x.month)\n",
    "by_month = crash_data.groupby('Month').count()\n",
    "by_month['Month.Name'] = by_month.index.map(lambda x: calendar.month_abbr[x])\n",
    "by_month.iplot(kind='bar', x='Month.Name', y='Event.Id', title='# Crashes / Month')"
   ]
  },
  {
   "cell_type": "code",
   "execution_count": 8,
   "metadata": {},
   "outputs": [
    {
     "data": {
      "application/vnd.plotly.v1+json": {
       "data": [
        {
         "marker": {
          "color": "rgba(0, 128, 0, 0.6)",
          "line": {
           "color": "rgba(0, 128, 0, 1.0)",
           "width": 1
          }
         },
         "name": "Event.Id",
         "orientation": "v",
         "text": "",
         "type": "bar",
         "x": [
          1979,
          1981,
          1982,
          1983,
          1984,
          1985,
          1986,
          1987,
          1988,
          1989,
          1990,
          1991,
          1992,
          1993,
          1994,
          1995,
          1996,
          1997,
          1998,
          1999,
          2000,
          2001,
          2002,
          2003,
          2004,
          2005,
          2006,
          2007,
          2008,
          2009,
          2010,
          2011,
          2012,
          2013,
          2014,
          2015,
          2016,
          2017
         ],
         "y": [
          1,
          1,
          3593,
          3556,
          3457,
          3096,
          2880,
          2828,
          2730,
          2544,
          2518,
          2462,
          2354,
          2313,
          2257,
          2309,
          2187,
          2148,
          2226,
          2209,
          2220,
          2063,
          2020,
          2085,
          1952,
          2031,
          1851,
          2016,
          1931,
          1805,
          1818,
          1886,
          1860,
          1555,
          1539,
          1578,
          1409,
          1
         ]
        }
       ],
       "layout": {
        "legend": {
         "bgcolor": "#F5F6F9",
         "font": {
          "color": "#4D5663"
         }
        },
        "paper_bgcolor": "#F5F6F9",
        "plot_bgcolor": "#F5F6F9",
        "title": "# Crashes / Year",
        "titlefont": {
         "color": "#4D5663"
        },
        "xaxis1": {
         "gridcolor": "#E1E5ED",
         "showgrid": true,
         "tickfont": {
          "color": "#4D5663"
         },
         "title": "",
         "titlefont": {
          "color": "#4D5663"
         },
         "zerolinecolor": "#E1E5ED"
        },
        "yaxis1": {
         "gridcolor": "#E1E5ED",
         "showgrid": true,
         "tickfont": {
          "color": "#4D5663"
         },
         "title": "",
         "titlefont": {
          "color": "#4D5663"
         },
         "zerolinecolor": "#E1E5ED"
        }
       }
      },
      "text/html": [
       "<div id=\"b97e8c25-73ef-4011-8df3-1583d54e4db9\" style=\"height: 525px; width: 100%;\" class=\"plotly-graph-div\"></div><script type=\"text/javascript\">require([\"plotly\"], function(Plotly) { window.PLOTLYENV=window.PLOTLYENV || {};window.PLOTLYENV.BASE_URL=\"https://plot.ly\";Plotly.newPlot(\"b97e8c25-73ef-4011-8df3-1583d54e4db9\", [{\"type\": \"bar\", \"name\": \"Event.Id\", \"x\": [1979, 1981, 1982, 1983, 1984, 1985, 1986, 1987, 1988, 1989, 1990, 1991, 1992, 1993, 1994, 1995, 1996, 1997, 1998, 1999, 2000, 2001, 2002, 2003, 2004, 2005, 2006, 2007, 2008, 2009, 2010, 2011, 2012, 2013, 2014, 2015, 2016, 2017], \"orientation\": \"v\", \"y\": [1, 1, 3593, 3556, 3457, 3096, 2880, 2828, 2730, 2544, 2518, 2462, 2354, 2313, 2257, 2309, 2187, 2148, 2226, 2209, 2220, 2063, 2020, 2085, 1952, 2031, 1851, 2016, 1931, 1805, 1818, 1886, 1860, 1555, 1539, 1578, 1409, 1], \"text\": \"\", \"marker\": {\"line\": {\"color\": \"rgba(0, 128, 0, 1.0)\", \"width\": 1}, \"color\": \"rgba(0, 128, 0, 0.6)\"}}], {\"legend\": {\"bgcolor\": \"#F5F6F9\", \"font\": {\"color\": \"#4D5663\"}}, \"titlefont\": {\"color\": \"#4D5663\"}, \"plot_bgcolor\": \"#F5F6F9\", \"xaxis1\": {\"gridcolor\": \"#E1E5ED\", \"titlefont\": {\"color\": \"#4D5663\"}, \"zerolinecolor\": \"#E1E5ED\", \"tickfont\": {\"color\": \"#4D5663\"}, \"showgrid\": true, \"title\": \"\"}, \"paper_bgcolor\": \"#F5F6F9\", \"title\": \"# Crashes / Year\", \"yaxis1\": {\"gridcolor\": \"#E1E5ED\", \"titlefont\": {\"color\": \"#4D5663\"}, \"zerolinecolor\": \"#E1E5ED\", \"tickfont\": {\"color\": \"#4D5663\"}, \"showgrid\": true, \"title\": \"\"}}, {\"linkText\": \"Export to plot.ly\", \"showLink\": true})});</script>"
      ],
      "text/vnd.plotly.v1+html": [
       "<div id=\"b97e8c25-73ef-4011-8df3-1583d54e4db9\" style=\"height: 525px; width: 100%;\" class=\"plotly-graph-div\"></div><script type=\"text/javascript\">require([\"plotly\"], function(Plotly) { window.PLOTLYENV=window.PLOTLYENV || {};window.PLOTLYENV.BASE_URL=\"https://plot.ly\";Plotly.newPlot(\"b97e8c25-73ef-4011-8df3-1583d54e4db9\", [{\"type\": \"bar\", \"name\": \"Event.Id\", \"x\": [1979, 1981, 1982, 1983, 1984, 1985, 1986, 1987, 1988, 1989, 1990, 1991, 1992, 1993, 1994, 1995, 1996, 1997, 1998, 1999, 2000, 2001, 2002, 2003, 2004, 2005, 2006, 2007, 2008, 2009, 2010, 2011, 2012, 2013, 2014, 2015, 2016, 2017], \"orientation\": \"v\", \"y\": [1, 1, 3593, 3556, 3457, 3096, 2880, 2828, 2730, 2544, 2518, 2462, 2354, 2313, 2257, 2309, 2187, 2148, 2226, 2209, 2220, 2063, 2020, 2085, 1952, 2031, 1851, 2016, 1931, 1805, 1818, 1886, 1860, 1555, 1539, 1578, 1409, 1], \"text\": \"\", \"marker\": {\"line\": {\"color\": \"rgba(0, 128, 0, 1.0)\", \"width\": 1}, \"color\": \"rgba(0, 128, 0, 0.6)\"}}], {\"legend\": {\"bgcolor\": \"#F5F6F9\", \"font\": {\"color\": \"#4D5663\"}}, \"titlefont\": {\"color\": \"#4D5663\"}, \"plot_bgcolor\": \"#F5F6F9\", \"xaxis1\": {\"gridcolor\": \"#E1E5ED\", \"titlefont\": {\"color\": \"#4D5663\"}, \"zerolinecolor\": \"#E1E5ED\", \"tickfont\": {\"color\": \"#4D5663\"}, \"showgrid\": true, \"title\": \"\"}, \"paper_bgcolor\": \"#F5F6F9\", \"title\": \"# Crashes / Year\", \"yaxis1\": {\"gridcolor\": \"#E1E5ED\", \"titlefont\": {\"color\": \"#4D5663\"}, \"zerolinecolor\": \"#E1E5ED\", \"tickfont\": {\"color\": \"#4D5663\"}, \"showgrid\": true, \"title\": \"\"}}, {\"linkText\": \"Export to plot.ly\", \"showLink\": true})});</script>"
      ]
     },
     "metadata": {},
     "output_type": "display_data"
    }
   ],
   "source": [
    "crash_data['Year'] = crash_data['Event.Date'].apply(lambda x: x.year)\n",
    "by_year = crash_data.groupby('Year').count()\n",
    "by_year.loc[1979:].iplot(kind='bar', y='Event.Id', title='# Crashes / Year',color='green')"
   ]
  },
  {
   "cell_type": "code",
   "execution_count": 9,
   "metadata": {},
   "outputs": [
    {
     "data": {
      "application/vnd.plotly.v1+json": {
       "data": [
        {
         "marker": {
          "color": "rgba(55, 128, 191, 0.6)",
          "line": {
           "color": "rgba(55, 128, 191, 1.0)",
           "width": 1
          }
         },
         "name": "Event.Id",
         "orientation": "v",
         "text": "",
         "type": "bar",
         "x": [
          "APPROACH",
          "CLIMB",
          "CRUISE",
          "DESCENT",
          "GO-AROUND",
          "LANDING",
          "MANEUVERING",
          "OTHER",
          "STANDING",
          "TAKEOFF",
          "TAXI",
          "UNKNOWN"
         ],
         "y": [
          7720,
          2279,
          10749,
          2202,
          1608,
          19209,
          9818,
          157,
          1219,
          15284,
          2322,
          672
         ]
        }
       ],
       "layout": {
        "legend": {
         "bgcolor": "#F5F6F9",
         "font": {
          "color": "#4D5663"
         }
        },
        "paper_bgcolor": "#F5F6F9",
        "plot_bgcolor": "#F5F6F9",
        "title": "# Crashes / Phase of Flight",
        "titlefont": {
         "color": "#4D5663"
        },
        "xaxis1": {
         "gridcolor": "#E1E5ED",
         "showgrid": true,
         "tickfont": {
          "color": "#4D5663"
         },
         "title": "",
         "titlefont": {
          "color": "#4D5663"
         },
         "zerolinecolor": "#E1E5ED"
        },
        "yaxis1": {
         "gridcolor": "#E1E5ED",
         "showgrid": true,
         "tickfont": {
          "color": "#4D5663"
         },
         "title": "",
         "titlefont": {
          "color": "#4D5663"
         },
         "zerolinecolor": "#E1E5ED"
        }
       }
      },
      "text/html": [
       "<div id=\"28cad431-46f1-4622-96c9-7ceebbbf6631\" style=\"height: 525px; width: 100%;\" class=\"plotly-graph-div\"></div><script type=\"text/javascript\">require([\"plotly\"], function(Plotly) { window.PLOTLYENV=window.PLOTLYENV || {};window.PLOTLYENV.BASE_URL=\"https://plot.ly\";Plotly.newPlot(\"28cad431-46f1-4622-96c9-7ceebbbf6631\", [{\"type\": \"bar\", \"name\": \"Event.Id\", \"x\": [\"APPROACH\", \"CLIMB\", \"CRUISE\", \"DESCENT\", \"GO-AROUND\", \"LANDING\", \"MANEUVERING\", \"OTHER\", \"STANDING\", \"TAKEOFF\", \"TAXI\", \"UNKNOWN\"], \"orientation\": \"v\", \"y\": [7720, 2279, 10749, 2202, 1608, 19209, 9818, 157, 1219, 15284, 2322, 672], \"text\": \"\", \"marker\": {\"line\": {\"color\": \"rgba(55, 128, 191, 1.0)\", \"width\": 1}, \"color\": \"rgba(55, 128, 191, 0.6)\"}}], {\"legend\": {\"bgcolor\": \"#F5F6F9\", \"font\": {\"color\": \"#4D5663\"}}, \"titlefont\": {\"color\": \"#4D5663\"}, \"plot_bgcolor\": \"#F5F6F9\", \"xaxis1\": {\"gridcolor\": \"#E1E5ED\", \"titlefont\": {\"color\": \"#4D5663\"}, \"zerolinecolor\": \"#E1E5ED\", \"tickfont\": {\"color\": \"#4D5663\"}, \"showgrid\": true, \"title\": \"\"}, \"paper_bgcolor\": \"#F5F6F9\", \"title\": \"# Crashes / Phase of Flight\", \"yaxis1\": {\"gridcolor\": \"#E1E5ED\", \"titlefont\": {\"color\": \"#4D5663\"}, \"zerolinecolor\": \"#E1E5ED\", \"tickfont\": {\"color\": \"#4D5663\"}, \"showgrid\": true, \"title\": \"\"}}, {\"linkText\": \"Export to plot.ly\", \"showLink\": true})});</script>"
      ],
      "text/vnd.plotly.v1+html": [
       "<div id=\"28cad431-46f1-4622-96c9-7ceebbbf6631\" style=\"height: 525px; width: 100%;\" class=\"plotly-graph-div\"></div><script type=\"text/javascript\">require([\"plotly\"], function(Plotly) { window.PLOTLYENV=window.PLOTLYENV || {};window.PLOTLYENV.BASE_URL=\"https://plot.ly\";Plotly.newPlot(\"28cad431-46f1-4622-96c9-7ceebbbf6631\", [{\"type\": \"bar\", \"name\": \"Event.Id\", \"x\": [\"APPROACH\", \"CLIMB\", \"CRUISE\", \"DESCENT\", \"GO-AROUND\", \"LANDING\", \"MANEUVERING\", \"OTHER\", \"STANDING\", \"TAKEOFF\", \"TAXI\", \"UNKNOWN\"], \"orientation\": \"v\", \"y\": [7720, 2279, 10749, 2202, 1608, 19209, 9818, 157, 1219, 15284, 2322, 672], \"text\": \"\", \"marker\": {\"line\": {\"color\": \"rgba(55, 128, 191, 1.0)\", \"width\": 1}, \"color\": \"rgba(55, 128, 191, 0.6)\"}}], {\"legend\": {\"bgcolor\": \"#F5F6F9\", \"font\": {\"color\": \"#4D5663\"}}, \"titlefont\": {\"color\": \"#4D5663\"}, \"plot_bgcolor\": \"#F5F6F9\", \"xaxis1\": {\"gridcolor\": \"#E1E5ED\", \"titlefont\": {\"color\": \"#4D5663\"}, \"zerolinecolor\": \"#E1E5ED\", \"tickfont\": {\"color\": \"#4D5663\"}, \"showgrid\": true, \"title\": \"\"}, \"paper_bgcolor\": \"#F5F6F9\", \"title\": \"# Crashes / Phase of Flight\", \"yaxis1\": {\"gridcolor\": \"#E1E5ED\", \"titlefont\": {\"color\": \"#4D5663\"}, \"zerolinecolor\": \"#E1E5ED\", \"tickfont\": {\"color\": \"#4D5663\"}, \"showgrid\": true, \"title\": \"\"}}, {\"linkText\": \"Export to plot.ly\", \"showLink\": true})});</script>"
      ]
     },
     "metadata": {},
     "output_type": "display_data"
    }
   ],
   "source": [
    "by_phase = crash_data.groupby('Broad.Phase.of.Flight').count()\n",
    "by_phase.iplot(kind='bar',y='Event.Id', color='blue', title='# Crashes / Phase of Flight')"
   ]
  },
  {
   "cell_type": "code",
   "execution_count": 10,
   "metadata": {},
   "outputs": [
    {
     "data": {
      "application/vnd.plotly.v1+json": {
       "data": [
        {
         "marker": {
          "color": "rgba(219, 64, 82, 0.6)",
          "line": {
           "color": "rgba(219, 64, 82, 1.0)",
           "width": 1
          }
         },
         "name": "Event.Id",
         "orientation": "v",
         "text": "",
         "type": "bar",
         "x": [
          "IMC",
          "UNK",
          "VMC"
         ],
         "y": [
          5660,
          969,
          70507
         ]
        }
       ],
       "layout": {
        "legend": {
         "bgcolor": "#F5F6F9",
         "font": {
          "color": "#4D5663"
         }
        },
        "paper_bgcolor": "#F5F6F9",
        "plot_bgcolor": "#F5F6F9",
        "title": "# Crashes / Weather Condition",
        "titlefont": {
         "color": "#4D5663"
        },
        "xaxis1": {
         "gridcolor": "#E1E5ED",
         "showgrid": true,
         "tickfont": {
          "color": "#4D5663"
         },
         "title": "",
         "titlefont": {
          "color": "#4D5663"
         },
         "zerolinecolor": "#E1E5ED"
        },
        "yaxis1": {
         "gridcolor": "#E1E5ED",
         "showgrid": true,
         "tickfont": {
          "color": "#4D5663"
         },
         "title": "",
         "titlefont": {
          "color": "#4D5663"
         },
         "zerolinecolor": "#E1E5ED"
        }
       }
      },
      "text/html": [
       "<div id=\"ac0ef664-6902-4171-af3a-280fe39084ae\" style=\"height: 525px; width: 100%;\" class=\"plotly-graph-div\"></div><script type=\"text/javascript\">require([\"plotly\"], function(Plotly) { window.PLOTLYENV=window.PLOTLYENV || {};window.PLOTLYENV.BASE_URL=\"https://plot.ly\";Plotly.newPlot(\"ac0ef664-6902-4171-af3a-280fe39084ae\", [{\"type\": \"bar\", \"name\": \"Event.Id\", \"x\": [\"IMC\", \"UNK\", \"VMC\"], \"orientation\": \"v\", \"y\": [5660, 969, 70507], \"text\": \"\", \"marker\": {\"line\": {\"color\": \"rgba(219, 64, 82, 1.0)\", \"width\": 1}, \"color\": \"rgba(219, 64, 82, 0.6)\"}}], {\"legend\": {\"bgcolor\": \"#F5F6F9\", \"font\": {\"color\": \"#4D5663\"}}, \"titlefont\": {\"color\": \"#4D5663\"}, \"plot_bgcolor\": \"#F5F6F9\", \"xaxis1\": {\"gridcolor\": \"#E1E5ED\", \"titlefont\": {\"color\": \"#4D5663\"}, \"zerolinecolor\": \"#E1E5ED\", \"tickfont\": {\"color\": \"#4D5663\"}, \"showgrid\": true, \"title\": \"\"}, \"paper_bgcolor\": \"#F5F6F9\", \"title\": \"# Crashes / Weather Condition\", \"yaxis1\": {\"gridcolor\": \"#E1E5ED\", \"titlefont\": {\"color\": \"#4D5663\"}, \"zerolinecolor\": \"#E1E5ED\", \"tickfont\": {\"color\": \"#4D5663\"}, \"showgrid\": true, \"title\": \"\"}}, {\"linkText\": \"Export to plot.ly\", \"showLink\": true})});</script>"
      ],
      "text/vnd.plotly.v1+html": [
       "<div id=\"ac0ef664-6902-4171-af3a-280fe39084ae\" style=\"height: 525px; width: 100%;\" class=\"plotly-graph-div\"></div><script type=\"text/javascript\">require([\"plotly\"], function(Plotly) { window.PLOTLYENV=window.PLOTLYENV || {};window.PLOTLYENV.BASE_URL=\"https://plot.ly\";Plotly.newPlot(\"ac0ef664-6902-4171-af3a-280fe39084ae\", [{\"type\": \"bar\", \"name\": \"Event.Id\", \"x\": [\"IMC\", \"UNK\", \"VMC\"], \"orientation\": \"v\", \"y\": [5660, 969, 70507], \"text\": \"\", \"marker\": {\"line\": {\"color\": \"rgba(219, 64, 82, 1.0)\", \"width\": 1}, \"color\": \"rgba(219, 64, 82, 0.6)\"}}], {\"legend\": {\"bgcolor\": \"#F5F6F9\", \"font\": {\"color\": \"#4D5663\"}}, \"titlefont\": {\"color\": \"#4D5663\"}, \"plot_bgcolor\": \"#F5F6F9\", \"xaxis1\": {\"gridcolor\": \"#E1E5ED\", \"titlefont\": {\"color\": \"#4D5663\"}, \"zerolinecolor\": \"#E1E5ED\", \"tickfont\": {\"color\": \"#4D5663\"}, \"showgrid\": true, \"title\": \"\"}, \"paper_bgcolor\": \"#F5F6F9\", \"title\": \"# Crashes / Weather Condition\", \"yaxis1\": {\"gridcolor\": \"#E1E5ED\", \"titlefont\": {\"color\": \"#4D5663\"}, \"zerolinecolor\": \"#E1E5ED\", \"tickfont\": {\"color\": \"#4D5663\"}, \"showgrid\": true, \"title\": \"\"}}, {\"linkText\": \"Export to plot.ly\", \"showLink\": true})});</script>"
      ]
     },
     "metadata": {},
     "output_type": "display_data"
    }
   ],
   "source": [
    "crash_data.groupby('Weather.Condition').count().iplot(kind='bar', y='Event.Id', color='red', title='# Crashes / Weather Condition')"
   ]
  },
  {
   "cell_type": "code",
   "execution_count": 17,
   "metadata": {},
   "outputs": [
    {
     "data": {
      "application/vnd.plotly.v1+json": {
       "data": [
        {
         "marker": {
          "color": "rgba(255, 153, 51, 0.6)",
          "line": {
           "color": "rgba(255, 153, 51, 1.0)",
           "width": 1
          }
         },
         "name": "Event.Id",
         "orientation": "v",
         "text": "",
         "type": "bar",
         "x": [
          "Aerial Application",
          "Aerial Observation",
          "Air Drop",
          "Air Race/Show",
          "Banner Tow",
          "Business",
          "Executive/Corporate",
          "External Load",
          "Ferry",
          "Firefighting",
          "Flight Test",
          "Glider Tow",
          "Instructional",
          "Other Work Use",
          "Personal",
          "Positioning",
          "Public Aircraft",
          "Public Aircraft - Federal",
          "Public Aircraft - Local",
          "Public Aircraft - State",
          "Skydiving",
          "Unknown"
         ],
         "y": [
          4369,
          673,
          11,
          146,
          81,
          3868,
          515,
          83,
          775,
          21,
          316,
          43,
          9487,
          1121,
          44550,
          1507,
          707,
          88,
          55,
          57,
          155,
          6771
         ]
        }
       ],
       "layout": {
        "legend": {
         "bgcolor": "#F5F6F9",
         "font": {
          "color": "#4D5663"
         }
        },
        "paper_bgcolor": "#F5F6F9",
        "plot_bgcolor": "#F5F6F9",
        "title": "# Crashes / Purpose",
        "titlefont": {
         "color": "#4D5663"
        },
        "xaxis1": {
         "gridcolor": "#E1E5ED",
         "showgrid": true,
         "tickfont": {
          "color": "#4D5663"
         },
         "title": "",
         "titlefont": {
          "color": "#4D5663"
         },
         "zerolinecolor": "#E1E5ED"
        },
        "yaxis1": {
         "gridcolor": "#E1E5ED",
         "showgrid": true,
         "tickfont": {
          "color": "#4D5663"
         },
         "title": "",
         "titlefont": {
          "color": "#4D5663"
         },
         "zerolinecolor": "#E1E5ED"
        }
       }
      },
      "text/html": [
       "<div id=\"bbdbe221-02c0-4932-8f09-edfe8aa8efc3\" style=\"height: 525px; width: 100%;\" class=\"plotly-graph-div\"></div><script type=\"text/javascript\">require([\"plotly\"], function(Plotly) { window.PLOTLYENV=window.PLOTLYENV || {};window.PLOTLYENV.BASE_URL=\"https://plot.ly\";Plotly.newPlot(\"bbdbe221-02c0-4932-8f09-edfe8aa8efc3\", [{\"type\": \"bar\", \"name\": \"Event.Id\", \"x\": [\"Aerial Application\", \"Aerial Observation\", \"Air Drop\", \"Air Race/Show\", \"Banner Tow\", \"Business\", \"Executive/Corporate\", \"External Load\", \"Ferry\", \"Firefighting\", \"Flight Test\", \"Glider Tow\", \"Instructional\", \"Other Work Use\", \"Personal\", \"Positioning\", \"Public Aircraft\", \"Public Aircraft - Federal\", \"Public Aircraft - Local\", \"Public Aircraft - State\", \"Skydiving\", \"Unknown\"], \"orientation\": \"v\", \"y\": [4369, 673, 11, 146, 81, 3868, 515, 83, 775, 21, 316, 43, 9487, 1121, 44550, 1507, 707, 88, 55, 57, 155, 6771], \"text\": \"\", \"marker\": {\"line\": {\"color\": \"rgba(255, 153, 51, 1.0)\", \"width\": 1}, \"color\": \"rgba(255, 153, 51, 0.6)\"}}], {\"legend\": {\"bgcolor\": \"#F5F6F9\", \"font\": {\"color\": \"#4D5663\"}}, \"titlefont\": {\"color\": \"#4D5663\"}, \"plot_bgcolor\": \"#F5F6F9\", \"xaxis1\": {\"gridcolor\": \"#E1E5ED\", \"titlefont\": {\"color\": \"#4D5663\"}, \"zerolinecolor\": \"#E1E5ED\", \"tickfont\": {\"color\": \"#4D5663\"}, \"showgrid\": true, \"title\": \"\"}, \"paper_bgcolor\": \"#F5F6F9\", \"title\": \"# Crashes / Purpose\", \"yaxis1\": {\"gridcolor\": \"#E1E5ED\", \"titlefont\": {\"color\": \"#4D5663\"}, \"zerolinecolor\": \"#E1E5ED\", \"tickfont\": {\"color\": \"#4D5663\"}, \"showgrid\": true, \"title\": \"\"}}, {\"linkText\": \"Export to plot.ly\", \"showLink\": true})});</script>"
      ],
      "text/vnd.plotly.v1+html": [
       "<div id=\"bbdbe221-02c0-4932-8f09-edfe8aa8efc3\" style=\"height: 525px; width: 100%;\" class=\"plotly-graph-div\"></div><script type=\"text/javascript\">require([\"plotly\"], function(Plotly) { window.PLOTLYENV=window.PLOTLYENV || {};window.PLOTLYENV.BASE_URL=\"https://plot.ly\";Plotly.newPlot(\"bbdbe221-02c0-4932-8f09-edfe8aa8efc3\", [{\"type\": \"bar\", \"name\": \"Event.Id\", \"x\": [\"Aerial Application\", \"Aerial Observation\", \"Air Drop\", \"Air Race/Show\", \"Banner Tow\", \"Business\", \"Executive/Corporate\", \"External Load\", \"Ferry\", \"Firefighting\", \"Flight Test\", \"Glider Tow\", \"Instructional\", \"Other Work Use\", \"Personal\", \"Positioning\", \"Public Aircraft\", \"Public Aircraft - Federal\", \"Public Aircraft - Local\", \"Public Aircraft - State\", \"Skydiving\", \"Unknown\"], \"orientation\": \"v\", \"y\": [4369, 673, 11, 146, 81, 3868, 515, 83, 775, 21, 316, 43, 9487, 1121, 44550, 1507, 707, 88, 55, 57, 155, 6771], \"text\": \"\", \"marker\": {\"line\": {\"color\": \"rgba(255, 153, 51, 1.0)\", \"width\": 1}, \"color\": \"rgba(255, 153, 51, 0.6)\"}}], {\"legend\": {\"bgcolor\": \"#F5F6F9\", \"font\": {\"color\": \"#4D5663\"}}, \"titlefont\": {\"color\": \"#4D5663\"}, \"plot_bgcolor\": \"#F5F6F9\", \"xaxis1\": {\"gridcolor\": \"#E1E5ED\", \"titlefont\": {\"color\": \"#4D5663\"}, \"zerolinecolor\": \"#E1E5ED\", \"tickfont\": {\"color\": \"#4D5663\"}, \"showgrid\": true, \"title\": \"\"}, \"paper_bgcolor\": \"#F5F6F9\", \"title\": \"# Crashes / Purpose\", \"yaxis1\": {\"gridcolor\": \"#E1E5ED\", \"titlefont\": {\"color\": \"#4D5663\"}, \"zerolinecolor\": \"#E1E5ED\", \"tickfont\": {\"color\": \"#4D5663\"}, \"showgrid\": true, \"title\": \"\"}}, {\"linkText\": \"Export to plot.ly\", \"showLink\": true})});</script>"
      ]
     },
     "metadata": {},
     "output_type": "display_data"
    }
   ],
   "source": [
    "crash_data.groupby('Purpose.of.Flight').count().iplot(kind='bar', y='Event.Id', title='# Crashes / Purpose')"
   ]
  },
  {
   "cell_type": "code",
   "execution_count": 22,
   "metadata": {},
   "outputs": [
    {
     "data": {
      "application/vnd.plotly.v1+json": {
       "data": [
        {
         "marker": {
          "color": "rgba(219, 64, 82, 0.6)",
          "line": {
           "color": "rgba(219, 64, 82, 1.0)",
           "width": 1
          }
         },
         "name": "Event.Id",
         "orientation": "v",
         "text": "",
         "type": "bar",
         "x": [
          "Armed Forces",
          "Non-U.S., Commercial",
          "Non-U.S., Non-Commercial",
          "Part 103: Ultralight",
          "Part 121: Air Carrier",
          "Part 125: 20+ Pax,6000+ lbs",
          "Part 129: Foreign",
          "Part 133: Rotorcraft Ext. Load",
          "Part 135: Air Taxi & Commuter",
          "Part 137: Agricultural",
          "Part 437: Commercial Space Flight",
          "Part 91 Subpart K: Fractional",
          "Part 91: General Aviation",
          "Part 91F: Special Flt Ops.",
          "Public Aircraft",
          "Public Use",
          "Unknown"
         ],
         "y": [
          7,
          514,
          771,
          8,
          525,
          7,
          194,
          96,
          763,
          1104,
          1,
          13,
          17958,
          1,
          12,
          179,
          181
         ]
        }
       ],
       "layout": {
        "legend": {
         "bgcolor": "#F5F6F9",
         "font": {
          "color": "#4D5663"
         }
        },
        "paper_bgcolor": "#F5F6F9",
        "plot_bgcolor": "#F5F6F9",
        "title": "# Crashes / FAR Description",
        "titlefont": {
         "color": "#4D5663"
        },
        "xaxis1": {
         "gridcolor": "#E1E5ED",
         "showgrid": true,
         "tickfont": {
          "color": "#4D5663"
         },
         "title": "",
         "titlefont": {
          "color": "#4D5663"
         },
         "zerolinecolor": "#E1E5ED"
        },
        "yaxis1": {
         "gridcolor": "#E1E5ED",
         "showgrid": true,
         "tickfont": {
          "color": "#4D5663"
         },
         "title": "",
         "titlefont": {
          "color": "#4D5663"
         },
         "zerolinecolor": "#E1E5ED"
        }
       }
      },
      "text/html": [
       "<div id=\"869f8e80-e392-45b5-ab0d-1aea3818879c\" style=\"height: 525px; width: 100%;\" class=\"plotly-graph-div\"></div><script type=\"text/javascript\">require([\"plotly\"], function(Plotly) { window.PLOTLYENV=window.PLOTLYENV || {};window.PLOTLYENV.BASE_URL=\"https://plot.ly\";Plotly.newPlot(\"869f8e80-e392-45b5-ab0d-1aea3818879c\", [{\"type\": \"bar\", \"name\": \"Event.Id\", \"x\": [\"Armed Forces\", \"Non-U.S., Commercial\", \"Non-U.S., Non-Commercial\", \"Part 103: Ultralight\", \"Part 121: Air Carrier\", \"Part 125: 20+ Pax,6000+ lbs\", \"Part 129: Foreign\", \"Part 133: Rotorcraft Ext. Load\", \"Part 135: Air Taxi & Commuter\", \"Part 137: Agricultural\", \"Part 437: Commercial Space Flight\", \"Part 91 Subpart K: Fractional\", \"Part 91: General Aviation\", \"Part 91F: Special Flt Ops.\", \"Public Aircraft\", \"Public Use\", \"Unknown\"], \"orientation\": \"v\", \"y\": [7, 514, 771, 8, 525, 7, 194, 96, 763, 1104, 1, 13, 17958, 1, 12, 179, 181], \"text\": \"\", \"marker\": {\"line\": {\"color\": \"rgba(219, 64, 82, 1.0)\", \"width\": 1}, \"color\": \"rgba(219, 64, 82, 0.6)\"}}], {\"legend\": {\"bgcolor\": \"#F5F6F9\", \"font\": {\"color\": \"#4D5663\"}}, \"titlefont\": {\"color\": \"#4D5663\"}, \"plot_bgcolor\": \"#F5F6F9\", \"xaxis1\": {\"gridcolor\": \"#E1E5ED\", \"titlefont\": {\"color\": \"#4D5663\"}, \"zerolinecolor\": \"#E1E5ED\", \"tickfont\": {\"color\": \"#4D5663\"}, \"showgrid\": true, \"title\": \"\"}, \"paper_bgcolor\": \"#F5F6F9\", \"title\": \"# Crashes / FAR Description\", \"yaxis1\": {\"gridcolor\": \"#E1E5ED\", \"titlefont\": {\"color\": \"#4D5663\"}, \"zerolinecolor\": \"#E1E5ED\", \"tickfont\": {\"color\": \"#4D5663\"}, \"showgrid\": true, \"title\": \"\"}}, {\"linkText\": \"Export to plot.ly\", \"showLink\": true})});</script>"
      ],
      "text/vnd.plotly.v1+html": [
       "<div id=\"869f8e80-e392-45b5-ab0d-1aea3818879c\" style=\"height: 525px; width: 100%;\" class=\"plotly-graph-div\"></div><script type=\"text/javascript\">require([\"plotly\"], function(Plotly) { window.PLOTLYENV=window.PLOTLYENV || {};window.PLOTLYENV.BASE_URL=\"https://plot.ly\";Plotly.newPlot(\"869f8e80-e392-45b5-ab0d-1aea3818879c\", [{\"type\": \"bar\", \"name\": \"Event.Id\", \"x\": [\"Armed Forces\", \"Non-U.S., Commercial\", \"Non-U.S., Non-Commercial\", \"Part 103: Ultralight\", \"Part 121: Air Carrier\", \"Part 125: 20+ Pax,6000+ lbs\", \"Part 129: Foreign\", \"Part 133: Rotorcraft Ext. Load\", \"Part 135: Air Taxi & Commuter\", \"Part 137: Agricultural\", \"Part 437: Commercial Space Flight\", \"Part 91 Subpart K: Fractional\", \"Part 91: General Aviation\", \"Part 91F: Special Flt Ops.\", \"Public Aircraft\", \"Public Use\", \"Unknown\"], \"orientation\": \"v\", \"y\": [7, 514, 771, 8, 525, 7, 194, 96, 763, 1104, 1, 13, 17958, 1, 12, 179, 181], \"text\": \"\", \"marker\": {\"line\": {\"color\": \"rgba(219, 64, 82, 1.0)\", \"width\": 1}, \"color\": \"rgba(219, 64, 82, 0.6)\"}}], {\"legend\": {\"bgcolor\": \"#F5F6F9\", \"font\": {\"color\": \"#4D5663\"}}, \"titlefont\": {\"color\": \"#4D5663\"}, \"plot_bgcolor\": \"#F5F6F9\", \"xaxis1\": {\"gridcolor\": \"#E1E5ED\", \"titlefont\": {\"color\": \"#4D5663\"}, \"zerolinecolor\": \"#E1E5ED\", \"tickfont\": {\"color\": \"#4D5663\"}, \"showgrid\": true, \"title\": \"\"}, \"paper_bgcolor\": \"#F5F6F9\", \"title\": \"# Crashes / FAR Description\", \"yaxis1\": {\"gridcolor\": \"#E1E5ED\", \"titlefont\": {\"color\": \"#4D5663\"}, \"zerolinecolor\": \"#E1E5ED\", \"tickfont\": {\"color\": \"#4D5663\"}, \"showgrid\": true, \"title\": \"\"}}, {\"linkText\": \"Export to plot.ly\", \"showLink\": true})});</script>"
      ]
     },
     "metadata": {},
     "output_type": "display_data"
    }
   ],
   "source": [
    "crash_data.groupby('FAR.Description').count().iplot(kind='bar', y='Event.Id', color='red', title='# Crashes / FAR Description')"
   ]
  },
  {
   "cell_type": "code",
   "execution_count": 48,
   "metadata": {},
   "outputs": [
    {
     "data": {
      "application/vnd.plotly.v1+json": {
       "data": [
        {
         "marker": {
          "color": "rgba(0, 128, 0, 0.6)",
          "line": {
           "color": "rgba(0, 128, 0, 1.0)",
           "width": 1
          }
         },
         "name": "Event.Id",
         "orientation": "v",
         "text": "",
         "type": "bar",
         "x": [
          "150",
          "150M",
          "152",
          "172",
          "172M",
          "172N",
          "172P",
          "PA-18",
          "PA-28-140",
          "PA-28-161"
         ],
         "y": [
          725,
          581,
          2278,
          1263,
          775,
          1133,
          669,
          573,
          900,
          558
         ]
        }
       ],
       "layout": {
        "legend": {
         "bgcolor": "#F5F6F9",
         "font": {
          "color": "#4D5663"
         }
        },
        "paper_bgcolor": "#F5F6F9",
        "plot_bgcolor": "#F5F6F9",
        "title": "Top 10 Deadliest Aircraft",
        "titlefont": {
         "color": "#4D5663"
        },
        "xaxis1": {
         "gridcolor": "#E1E5ED",
         "showgrid": true,
         "tickfont": {
          "color": "#4D5663"
         },
         "title": "",
         "titlefont": {
          "color": "#4D5663"
         },
         "zerolinecolor": "#E1E5ED"
        },
        "yaxis1": {
         "gridcolor": "#E1E5ED",
         "showgrid": true,
         "tickfont": {
          "color": "#4D5663"
         },
         "title": "",
         "titlefont": {
          "color": "#4D5663"
         },
         "zerolinecolor": "#E1E5ED"
        }
       }
      },
      "text/html": [
       "<div id=\"ab4f9c4c-f37e-4d6f-b96a-310b752da7c4\" style=\"height: 525px; width: 100%;\" class=\"plotly-graph-div\"></div><script type=\"text/javascript\">require([\"plotly\"], function(Plotly) { window.PLOTLYENV=window.PLOTLYENV || {};window.PLOTLYENV.BASE_URL=\"https://plot.ly\";Plotly.newPlot(\"ab4f9c4c-f37e-4d6f-b96a-310b752da7c4\", [{\"type\": \"bar\", \"name\": \"Event.Id\", \"x\": [\"150\", \"150M\", \"152\", \"172\", \"172M\", \"172N\", \"172P\", \"PA-18\", \"PA-28-140\", \"PA-28-161\"], \"orientation\": \"v\", \"y\": [725, 581, 2278, 1263, 775, 1133, 669, 573, 900, 558], \"text\": \"\", \"marker\": {\"line\": {\"color\": \"rgba(0, 128, 0, 1.0)\", \"width\": 1}, \"color\": \"rgba(0, 128, 0, 0.6)\"}}], {\"legend\": {\"bgcolor\": \"#F5F6F9\", \"font\": {\"color\": \"#4D5663\"}}, \"titlefont\": {\"color\": \"#4D5663\"}, \"plot_bgcolor\": \"#F5F6F9\", \"xaxis1\": {\"gridcolor\": \"#E1E5ED\", \"titlefont\": {\"color\": \"#4D5663\"}, \"zerolinecolor\": \"#E1E5ED\", \"tickfont\": {\"color\": \"#4D5663\"}, \"showgrid\": true, \"title\": \"\"}, \"paper_bgcolor\": \"#F5F6F9\", \"title\": \"Top 10 Deadliest Aircraft\", \"yaxis1\": {\"gridcolor\": \"#E1E5ED\", \"titlefont\": {\"color\": \"#4D5663\"}, \"zerolinecolor\": \"#E1E5ED\", \"tickfont\": {\"color\": \"#4D5663\"}, \"showgrid\": true, \"title\": \"\"}}, {\"linkText\": \"Export to plot.ly\", \"showLink\": true})});</script>"
      ],
      "text/vnd.plotly.v1+html": [
       "<div id=\"ab4f9c4c-f37e-4d6f-b96a-310b752da7c4\" style=\"height: 525px; width: 100%;\" class=\"plotly-graph-div\"></div><script type=\"text/javascript\">require([\"plotly\"], function(Plotly) { window.PLOTLYENV=window.PLOTLYENV || {};window.PLOTLYENV.BASE_URL=\"https://plot.ly\";Plotly.newPlot(\"ab4f9c4c-f37e-4d6f-b96a-310b752da7c4\", [{\"type\": \"bar\", \"name\": \"Event.Id\", \"x\": [\"150\", \"150M\", \"152\", \"172\", \"172M\", \"172N\", \"172P\", \"PA-18\", \"PA-28-140\", \"PA-28-161\"], \"orientation\": \"v\", \"y\": [725, 581, 2278, 1263, 775, 1133, 669, 573, 900, 558], \"text\": \"\", \"marker\": {\"line\": {\"color\": \"rgba(0, 128, 0, 1.0)\", \"width\": 1}, \"color\": \"rgba(0, 128, 0, 0.6)\"}}], {\"legend\": {\"bgcolor\": \"#F5F6F9\", \"font\": {\"color\": \"#4D5663\"}}, \"titlefont\": {\"color\": \"#4D5663\"}, \"plot_bgcolor\": \"#F5F6F9\", \"xaxis1\": {\"gridcolor\": \"#E1E5ED\", \"titlefont\": {\"color\": \"#4D5663\"}, \"zerolinecolor\": \"#E1E5ED\", \"tickfont\": {\"color\": \"#4D5663\"}, \"showgrid\": true, \"title\": \"\"}, \"paper_bgcolor\": \"#F5F6F9\", \"title\": \"Top 10 Deadliest Aircraft\", \"yaxis1\": {\"gridcolor\": \"#E1E5ED\", \"titlefont\": {\"color\": \"#4D5663\"}, \"zerolinecolor\": \"#E1E5ED\", \"tickfont\": {\"color\": \"#4D5663\"}, \"showgrid\": true, \"title\": \"\"}}, {\"linkText\": \"Export to plot.ly\", \"showLink\": true})});</script>"
      ]
     },
     "metadata": {},
     "output_type": "display_data"
    }
   ],
   "source": [
    "by_model = crash_data.groupby('Model').count()\n",
    "by_model[by_model['Event.Id'] > 555].iplot(kind='bar', y='Event.Id', color='green', title='Top 10 Deadliest Aircraft')"
   ]
  }
 ],
 "metadata": {
  "kernelspec": {
   "display_name": "Python 3",
   "language": "python",
   "name": "python3"
  },
  "language_info": {
   "codemirror_mode": {
    "name": "ipython",
    "version": 3
   },
   "file_extension": ".py",
   "mimetype": "text/x-python",
   "name": "python",
   "nbconvert_exporter": "python",
   "pygments_lexer": "ipython3",
   "version": "3.5.2"
  }
 },
 "nbformat": 4,
 "nbformat_minor": 2
}
